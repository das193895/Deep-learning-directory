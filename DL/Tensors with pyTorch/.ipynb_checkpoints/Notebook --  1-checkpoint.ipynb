{
 "cells": [
  {
   "cell_type": "code",
   "execution_count": 1,
   "id": "cc1ba36a",
   "metadata": {},
   "outputs": [
    {
     "name": "stdout",
     "output_type": "stream",
     "text": [
      "Requirement already satisfied: torch in c:\\users\\91797\\anaconda3\\lib\\site-packages (1.12.1)\n",
      "Requirement already satisfied: typing_extensions in c:\\users\\91797\\anaconda3\\lib\\site-packages (from torch) (4.9.0)\n",
      "Note: you may need to restart the kernel to use updated packages.\n"
     ]
    }
   ],
   "source": [
    "pip install torch\n"
   ]
  },
  {
   "cell_type": "markdown",
   "id": "68a097c0",
   "metadata": {},
   "source": [
    "# Tensors"
   ]
  },
  {
   "cell_type": "raw",
   "id": "c157cea2",
   "metadata": {},
   "source": [
    "A multi-dimensional matrix . More suitable than the Numpy array for deep learning."
   ]
  },
  {
   "cell_type": "code",
   "execution_count": 2,
   "id": "da64c58a",
   "metadata": {},
   "outputs": [],
   "source": [
    "import torch\n",
    "import numpy as np"
   ]
  },
  {
   "cell_type": "markdown",
   "id": "0d212496",
   "metadata": {},
   "source": [
    "## Basic Operations"
   ]
  },
  {
   "cell_type": "code",
   "execution_count": 3,
   "id": "e29b530f",
   "metadata": {},
   "outputs": [
    {
     "data": {
      "text/plain": [
       "tensor([[ 1, -1],\n",
       "        [ 1, -1]])"
      ]
     },
     "execution_count": 3,
     "metadata": {},
     "output_type": "execute_result"
    }
   ],
   "source": [
    "torch.tensor([[1,-1],[1,-1]])  ## A 2d tensor with 2 rows and 2 columns"
   ]
  },
  {
   "cell_type": "code",
   "execution_count": 21,
   "id": "da261687",
   "metadata": {},
   "outputs": [
    {
     "data": {
      "text/plain": [
       "tensor([[ 1.1895, -0.2915, -0.2431,  0.5798],\n",
       "        [-1.5710,  1.9543,  0.1597, -1.0622],\n",
       "        [ 0.4250, -0.8319, -0.2319,  1.6430]])"
      ]
     },
     "execution_count": 21,
     "metadata": {},
     "output_type": "execute_result"
    }
   ],
   "source": [
    "torch.randn(3,4)   ## 2 cross 4 tensor withh random values "
   ]
  },
  {
   "cell_type": "code",
   "execution_count": 22,
   "id": "2d0b982c",
   "metadata": {},
   "outputs": [
    {
     "data": {
      "text/plain": [
       "tensor([[[-0.8407,  0.3941,  0.4242, -0.8886],\n",
       "         [ 0.8045,  0.7075, -0.6028, -0.8471],\n",
       "         [-1.0436, -0.4117, -1.5164, -2.5456]],\n",
       "\n",
       "        [[ 1.6180,  0.3006, -1.7536, -1.8600],\n",
       "         [-1.9945,  0.7010,  0.3133, -0.3872],\n",
       "         [ 0.2274,  0.5429,  0.7714,  0.3943]]])"
      ]
     },
     "execution_count": 22,
     "metadata": {},
     "output_type": "execute_result"
    }
   ],
   "source": [
    "torch.randn(2,3,4)  ## A 3d tensor with random values"
   ]
  },
  {
   "cell_type": "code",
   "execution_count": 4,
   "id": "4ae2f90a",
   "metadata": {},
   "outputs": [
    {
     "data": {
      "text/plain": [
       "tensor([[ 1,  2,  3,  4],\n",
       "        [ 4,  5,  6,  7],\n",
       "        [ 7,  8,  9, 10]])"
      ]
     },
     "execution_count": 4,
     "metadata": {},
     "output_type": "execute_result"
    }
   ],
   "source": [
    "torch.tensor([[1,2,3,4],[4,5,6,7],[7,8,9,10]])  ## A 2d tensor with 3 rows and 4 columns"
   ]
  },
  {
   "cell_type": "code",
   "execution_count": 5,
   "id": "dd0c78b8",
   "metadata": {},
   "outputs": [
    {
     "data": {
      "text/plain": [
       "tensor([[[ 1, -1],\n",
       "         [ 1, -1]],\n",
       "\n",
       "        [[ 1, -2],\n",
       "         [ 2, -1]]])"
      ]
     },
     "execution_count": 5,
     "metadata": {},
     "output_type": "execute_result"
    }
   ],
   "source": [
    "torch.tensor([[[1,-1],[1,-1]],[[1,-2],[2,-1]]])  ## A 3d tensor"
   ]
  },
  {
   "cell_type": "code",
   "execution_count": 7,
   "id": "593ea317",
   "metadata": {},
   "outputs": [
    {
     "data": {
      "text/plain": [
       "tensor([[1, 2, 3],\n",
       "        [4, 5, 6]], dtype=torch.int32)"
      ]
     },
     "execution_count": 7,
     "metadata": {},
     "output_type": "execute_result"
    }
   ],
   "source": [
    "torch.tensor(np.array([[1, 2, 3], [4, 5, 6]]))  ## we can create tensors from numpy array"
   ]
  },
  {
   "cell_type": "code",
   "execution_count": 8,
   "id": "35583b9a",
   "metadata": {},
   "outputs": [
    {
     "data": {
      "text/plain": [
       "tensor([[0, 0, 0, 0],\n",
       "        [0, 0, 0, 0]], dtype=torch.int32)"
      ]
     },
     "execution_count": 8,
     "metadata": {},
     "output_type": "execute_result"
    }
   ],
   "source": [
    " torch.zeros([2, 4], dtype=torch.int32)"
   ]
  },
  {
   "cell_type": "code",
   "execution_count": 11,
   "id": "d7ec9a91",
   "metadata": {},
   "outputs": [],
   "source": [
    "# cuda0 = torch.device('cuda:0')\n",
    "# torch.ones([2, 4], dtype=torch.float64, device=cuda0)"
   ]
  },
  {
   "cell_type": "code",
   "execution_count": 16,
   "id": "e30fd6cf",
   "metadata": {},
   "outputs": [
    {
     "name": "stdout",
     "output_type": "stream",
     "text": [
      "tensor(6)\n"
     ]
    }
   ],
   "source": [
    "x = torch.tensor([[1, 2, 3], [4, 5, 6]])\n",
    "print(x[1][2])"
   ]
  },
  {
   "cell_type": "code",
   "execution_count": 18,
   "id": "47785116",
   "metadata": {},
   "outputs": [
    {
     "name": "stdout",
     "output_type": "stream",
     "text": [
      "tensor([[1, 8, 3],\n",
      "        [4, 5, 6]])\n"
     ]
    }
   ],
   "source": [
    "x[0][1] = 8   ## We can create a tensor with the value of a spectfied position\n",
    "print(x)"
   ]
  },
  {
   "cell_type": "code",
   "execution_count": null,
   "id": "217842e8",
   "metadata": {},
   "outputs": [],
   "source": []
  }
 ],
 "metadata": {
  "kernelspec": {
   "display_name": "Python 3 (ipykernel)",
   "language": "python",
   "name": "python3"
  },
  "language_info": {
   "codemirror_mode": {
    "name": "ipython",
    "version": 3
   },
   "file_extension": ".py",
   "mimetype": "text/x-python",
   "name": "python",
   "nbconvert_exporter": "python",
   "pygments_lexer": "ipython3",
   "version": "3.10.9"
  }
 },
 "nbformat": 4,
 "nbformat_minor": 5
}
