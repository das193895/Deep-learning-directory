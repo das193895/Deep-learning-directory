{
 "cells": [
  {
   "cell_type": "code",
   "execution_count": 1,
   "id": "c57ff57d",
   "metadata": {},
   "outputs": [
    {
     "name": "stdout",
     "output_type": "stream",
     "text": [
      "Requirement already satisfied: torch in c:\\users\\91797\\anaconda3\\lib\\site-packages (1.12.1)\n",
      "Requirement already satisfied: typing_extensions in c:\\users\\91797\\anaconda3\\lib\\site-packages (from torch) (4.9.0)\n",
      "Note: you may need to restart the kernel to use updated packages.\n"
     ]
    }
   ],
   "source": [
    "pip install torch\n"
   ]
  },
  {
   "cell_type": "markdown",
   "id": "3352b234",
   "metadata": {},
   "source": [
    "# Tensors"
   ]
  },
  {
   "cell_type": "raw",
   "id": "2101f369",
   "metadata": {},
   "source": [
    "A multi-dimensional matrix . More suitable than the Numpy array for deep learning."
   ]
  },
  {
   "cell_type": "code",
   "execution_count": 2,
   "id": "764d672f",
   "metadata": {},
   "outputs": [],
   "source": [
    "import torch\n",
    "import numpy as np"
   ]
  },
  {
   "cell_type": "markdown",
   "id": "9cbad87c",
   "metadata": {},
   "source": [
    "## Basic Operations"
   ]
  },
  {
   "cell_type": "code",
   "execution_count": 3,
   "id": "d8394aa6",
   "metadata": {},
   "outputs": [
    {
     "data": {
      "text/plain": [
       "tensor([[ 1, -1],\n",
       "        [ 1, -1]])"
      ]
     },
     "execution_count": 3,
     "metadata": {},
     "output_type": "execute_result"
    }
   ],
   "source": [
    "torch.tensor([[1,-1],[1,-1]])  ## A 2d tensor with 2 rows and 2 columns"
   ]
  },
  {
   "cell_type": "code",
   "execution_count": 4,
   "id": "e11b3b10",
   "metadata": {},
   "outputs": [
    {
     "data": {
      "text/plain": [
       "tensor([[ 1,  2,  3,  4],\n",
       "        [ 4,  5,  6,  7],\n",
       "        [ 7,  8,  9, 10]])"
      ]
     },
     "execution_count": 4,
     "metadata": {},
     "output_type": "execute_result"
    }
   ],
   "source": [
    "torch.tensor([[1,2,3,4],[4,5,6,7],[7,8,9,10]])  ## A 2d tensor with 3 rows and 4 columns"
   ]
  },
  {
   "cell_type": "code",
   "execution_count": 5,
   "id": "8bce0be5",
   "metadata": {},
   "outputs": [
    {
     "data": {
      "text/plain": [
       "tensor([[[ 1, -1],\n",
       "         [ 1, -1]],\n",
       "\n",
       "        [[ 1, -2],\n",
       "         [ 2, -1]]])"
      ]
     },
     "execution_count": 5,
     "metadata": {},
     "output_type": "execute_result"
    }
   ],
   "source": [
    "torch.tensor([[[1,-1],[1,-1]],[[1,-2],[2,-1]]])  ## A 3d tensor"
   ]
  },
  {
   "cell_type": "code",
   "execution_count": 7,
   "id": "51e7c0cf",
   "metadata": {},
   "outputs": [
    {
     "data": {
      "text/plain": [
       "tensor([[1, 2, 3],\n",
       "        [4, 5, 6]], dtype=torch.int32)"
      ]
     },
     "execution_count": 7,
     "metadata": {},
     "output_type": "execute_result"
    }
   ],
   "source": [
    "torch.tensor(np.array([[1, 2, 3], [4, 5, 6]]))  ## we can create tensors from numpy array"
   ]
  },
  {
   "cell_type": "code",
   "execution_count": 8,
   "id": "992caf6f",
   "metadata": {},
   "outputs": [
    {
     "data": {
      "text/plain": [
       "tensor([[0, 0, 0, 0],\n",
       "        [0, 0, 0, 0]], dtype=torch.int32)"
      ]
     },
     "execution_count": 8,
     "metadata": {},
     "output_type": "execute_result"
    }
   ],
   "source": [
    " torch.zeros([2, 4], dtype=torch.int32)"
   ]
  },
  {
   "cell_type": "code",
   "execution_count": 11,
   "id": "e27d6b70",
   "metadata": {},
   "outputs": [],
   "source": [
    "# cuda0 = torch.device('cuda:0')\n",
    "# torch.ones([2, 4], dtype=torch.float64, device=cuda0)"
   ]
  },
  {
   "cell_type": "code",
   "execution_count": 16,
   "id": "66bd89c5",
   "metadata": {},
   "outputs": [
    {
     "name": "stdout",
     "output_type": "stream",
     "text": [
      "tensor(6)\n"
     ]
    }
   ],
   "source": [
    "x = torch.tensor([[1, 2, 3], [4, 5, 6]])\n",
    "print(x[1][2])"
   ]
  },
  {
   "cell_type": "code",
   "execution_count": 18,
   "id": "bae8b127",
   "metadata": {},
   "outputs": [
    {
     "name": "stdout",
     "output_type": "stream",
     "text": [
      "tensor([[1, 8, 3],\n",
      "        [4, 5, 6]])\n"
     ]
    }
   ],
   "source": [
    "x[0][1] = 8   ## We can create a tensor with the value of a spectfied position\n",
    "print(x)"
   ]
  },
  {
   "cell_type": "code",
   "execution_count": null,
   "id": "b4901092",
   "metadata": {},
   "outputs": [],
   "source": []
  }
 ],
 "metadata": {
  "kernelspec": {
   "display_name": "Python 3 (ipykernel)",
   "language": "python",
   "name": "python3"
  },
  "language_info": {
   "codemirror_mode": {
    "name": "ipython",
    "version": 3
   },
   "file_extension": ".py",
   "mimetype": "text/x-python",
   "name": "python",
   "nbconvert_exporter": "python",
   "pygments_lexer": "ipython3",
   "version": "3.10.9"
  }
 },
 "nbformat": 4,
 "nbformat_minor": 5
}
