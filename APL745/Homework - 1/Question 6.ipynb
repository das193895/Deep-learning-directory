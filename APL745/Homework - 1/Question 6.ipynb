{
 "cells": [
  {
   "cell_type": "code",
   "execution_count": 1,
   "id": "853730a1",
   "metadata": {},
   "outputs": [],
   "source": [
    "## Question - 6"
   ]
  },
  {
   "cell_type": "code",
   "execution_count": 17,
   "id": "8f310ee8",
   "metadata": {},
   "outputs": [],
   "source": [
    "# Import the required libraries\n",
    "\n",
    "import numpy as np"
   ]
  },
  {
   "cell_type": "code",
   "execution_count": 18,
   "id": "e6bbda68",
   "metadata": {},
   "outputs": [],
   "source": [
    "def relu(x):\n",
    "    return np.maximum(x, 0)\n",
    "\n",
    "def relu_derivative(x):\n",
    "    return np.where(x > 0, 1, 0)\n",
    "\n",
    "def sigmoid(x):\n",
    "    return 1 / (1 + np.exp(-x))\n",
    "\n",
    "def sigmoid_derivative(x):\n",
    "    return sigmoid(x) * (1 - sigmoid(x))\n",
    "\n",
    "def d_ln(x):\n",
    "    return 1 / x"
   ]
  },
  {
   "cell_type": "code",
   "execution_count": 19,
   "id": "70a6458d",
   "metadata": {},
   "outputs": [],
   "source": [
    "def forward_pass(w, u, b, m, v, c):\n",
    "    x = relu(w * u + b)\n",
    "    y = sigmoid(m * v + c)\n",
    "    z1 = x + y**2\n",
    "    z2 = x - y\n",
    "    z3 = np.log(x * y)\n",
    "    z = ((z1 / z2) ** z3)\n",
    "    return z"
   ]
  },
  {
   "cell_type": "code",
   "execution_count": 20,
   "id": "4ee9f49a",
   "metadata": {},
   "outputs": [],
   "source": [
    "def backward_pass(w, u, b, m, v, c):\n",
    "    x = relu(w * u + b)\n",
    "    y = sigmoid(m * v + c)\n",
    "\n",
    "    dz1_dx = 1\n",
    "    dz1_dy = 2 * y\n",
    "    dz2_dx = 1\n",
    "    dz2_dy = -1\n",
    "    dz3_dx = d_ln(x * y) * y\n",
    "    dz3_dy = d_ln(x * y) * x\n",
    "\n",
    "    dz_dw = (dz1_dx * relu_derivative(w * u + b) * u + dz2_dx * relu_derivative(w * u + b) * u + dz3_dx * (m * v + c) * v)\n",
    "    dz_db = dz1_dx * relu_derivative(w * u + b) + dz2_dx * relu_derivative(w * u + b)\n",
    "    dz_dm = dz1_dy * sigmoid_derivative(m * v + c) * v\n",
    "    dz_dc = dz1_dy * sigmoid_derivative(m * v + c)\n",
    "\n",
    "    return dz_dw, dz_db, dz_dm, dz_dc"
   ]
  },
  {
   "cell_type": "code",
   "execution_count": 21,
   "id": "a2730122",
   "metadata": {},
   "outputs": [
    {
     "name": "stdout",
     "output_type": "stream",
     "text": [
      "Gradients:\n",
      "dz/dw = 9.483949792302441\n",
      "dz/db = 2\n",
      "dz/dm = -0.004629069224185254\n",
      "dz/dc = 0.001464503998982558\n"
     ]
    }
   ],
   "source": [
    "# Sample data\n",
    "u = np.random.uniform(5, 10)\n",
    "v = np.random.normal(-5, 2)\n",
    "w, b, m, c = np.random.randn(4)\n",
    "\n",
    "# Forward computation\n",
    "z = forward_pass(w, u, b, m, v, c)\n",
    "\n",
    "# Backward computation\n",
    "dz_dw, dz_db, dz_dm, dz_dc = backward_pass(w, u, b, m, v, c)\n",
    "\n",
    "print(\"Gradients:\")\n",
    "print(\"dz/dw =\", dz_dw)\n",
    "print(\"dz/db =\", dz_db)\n",
    "print(\"dz/dm =\", dz_dm)\n",
    "print(\"dz/dc =\", dz_dc)"
   ]
  },
  {
   "cell_type": "code",
   "execution_count": null,
   "id": "e4b41ece",
   "metadata": {},
   "outputs": [],
   "source": []
  },
  {
   "cell_type": "code",
   "execution_count": null,
   "id": "b9ecef47",
   "metadata": {},
   "outputs": [],
   "source": []
  }
 ],
 "metadata": {
  "kernelspec": {
   "display_name": "Python 3 (ipykernel)",
   "language": "python",
   "name": "python3"
  },
  "language_info": {
   "codemirror_mode": {
    "name": "ipython",
    "version": 3
   },
   "file_extension": ".py",
   "mimetype": "text/x-python",
   "name": "python",
   "nbconvert_exporter": "python",
   "pygments_lexer": "ipython3",
   "version": "3.11.5"
  }
 },
 "nbformat": 4,
 "nbformat_minor": 5
}
