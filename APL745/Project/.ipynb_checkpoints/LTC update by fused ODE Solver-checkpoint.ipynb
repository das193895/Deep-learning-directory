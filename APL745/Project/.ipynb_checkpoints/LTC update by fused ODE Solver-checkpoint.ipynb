{
 "cells": [
  {
   "cell_type": "code",
   "execution_count": 1,
   "id": "27d93c4a",
   "metadata": {},
   "outputs": [],
   "source": [
    "import torch"
   ]
  },
  {
   "cell_type": "code",
   "execution_count": 10,
   "id": "9891a96a",
   "metadata": {},
   "outputs": [],
   "source": [
    "def FusedStep(x, I, delta_t, theta):\n",
    "    \"\"\"\n",
    "    Update the state of the LTC neural network for a single time step using the Fused ODE Solver.\n",
    "\n",
    "    Args:\n",
    "        x (torch.Tensor): Current state of the neural network, shape (N, 1).\n",
    "        I (torch.Tensor): Input for the current time step, shape (M, 1).\n",
    "        delta_t (float): Step size.\n",
    "        theta (tuple): Tuple containing parameters: tau (time-constant), gamma (weights), r (recurrent weights), mu (biases).\n",
    "        \n",
    "    Returns:\n",
    "        torch.Tensor: Updated state of the neural network, shape (N, 1).\n",
    "    \"\"\"\n",
    "    # Unpack parameters\n",
    "    tau, gamma, r, mu = theta\n",
    "    A = torch.ones_like(mu)\n",
    "\n",
    "    # Compute f(x(t), I(t), t, θ)\n",
    "    f_x = torch.tanh(torch.matmul(gamma, I) + torch.matmul(r, x) + mu)\n",
    "\n",
    "    # Compute x(t + Δt)\n",
    "    x_next = x + delta_t * (f_x * A * (1 + delta_t / tau))\n",
    "\n",
    "\n",
    "    return x_next"
   ]
  },
  {
   "cell_type": "code",
   "execution_count": 11,
   "id": "5c997af3",
   "metadata": {},
   "outputs": [],
   "source": [
    "def LTC_update_by_fused_ODE_Solver(theta, A, L, delta_t, input_sequence, initial_state):\n",
    "    \"\"\"\n",
    "    Perform LTC update using the Fused ODE Solver.\n",
    "\n",
    "    Args:\n",
    "        theta (tuple): Tuple containing parameters: tau (time-constant), gamma (weights), r (recurrent weights), mu (biases).\n",
    "        A (torch.Tensor): Bias vector, shape (N, 1).\n",
    "        L (int): Number of unfolding steps.\n",
    "        delta_t (float): Step size.\n",
    "        input_sequence (torch.Tensor): Input sequence, shape (M, L).\n",
    "        initial_state (torch.Tensor): Initial state of the neural network, shape (N, 1).\n",
    "        \n",
    "    Returns:\n",
    "        torch.Tensor: Next state of the neural network after L unfolding steps, shape (N, 1).\n",
    "    \"\"\"\n",
    "     # Initialize current state\n",
    "    x = initial_state\n",
    "\n",
    "    # Perform L unfolding steps\n",
    "    for i in range(L):\n",
    "        x = FusedStep(x, input_sequence[:, i], delta_t, theta)\n",
    "\n",
    "    return x"
   ]
  },
  {
   "cell_type": "code",
   "execution_count": null,
   "id": "389ca8f7",
   "metadata": {},
   "outputs": [],
   "source": []
  }
 ],
 "metadata": {
  "kernelspec": {
   "display_name": "Python 3 (ipykernel)",
   "language": "python",
   "name": "python3"
  },
  "language_info": {
   "codemirror_mode": {
    "name": "ipython",
    "version": 3
   },
   "file_extension": ".py",
   "mimetype": "text/x-python",
   "name": "python",
   "nbconvert_exporter": "python",
   "pygments_lexer": "ipython3",
   "version": "3.11.5"
  }
 },
 "nbformat": 4,
 "nbformat_minor": 5
}
