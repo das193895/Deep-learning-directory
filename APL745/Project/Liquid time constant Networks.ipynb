{
 "cells": [
  {
   "cell_type": "markdown",
   "id": "02720529",
   "metadata": {},
   "source": [
    "# Implementing Liquid time constant Networks"
   ]
  },
  {
   "cell_type": "code",
   "execution_count": 11,
   "id": "603c2e61",
   "metadata": {},
   "outputs": [],
   "source": [
    "import torch\n",
    "import torch.nn as nn\n",
    "import torch.nn.functional as F\n",
    "import numpy as np\n",
    "from enum import Enum"
   ]
  },
  {
   "cell_type": "code",
   "execution_count": 12,
   "id": "6a106382",
   "metadata": {},
   "outputs": [],
   "source": [
    "class MappingType(Enum):\n",
    "    Identity = 0\n",
    "    Linear = 1\n",
    "    Affine = 2"
   ]
  },
  {
   "cell_type": "code",
   "execution_count": 13,
   "id": "597ae20a",
   "metadata": {},
   "outputs": [],
   "source": [
    "class ODESolver(Enum):\n",
    "    SemiImplicit = 0\n",
    "    Explicit = 1\n",
    "    RungeKutta = 2"
   ]
  },
  {
   "cell_type": "code",
   "execution_count": 3,
   "id": "c71c05a3",
   "metadata": {},
   "outputs": [],
   "source": [
    "class LTCCell(nn.Module):\n",
    "    def __init__(self, num_units):\n",
    "        super(LTCCell, self).__init__()\n",
    "\n",
    "        self.input_size = -1\n",
    "        self.num_units = num_units\n",
    "        self.is_built = False\n",
    "\n",
    "        # Number of ODE solver steps in one RNN step\n",
    "        self.ode_solver_unfolds = 6\n",
    "        self.solver = ODESolver.SemiImplicit\n",
    "\n",
    "        self.input_mapping = MappingType.Affine\n",
    "\n",
    "        self.erev_init_factor = 1\n",
    "\n",
    "        self.w_init_max = 1.0\n",
    "        self.w_init_min = 0.01\n",
    "        self.cm_init_min = 0.5\n",
    "        self.cm_init_max = 0.5\n",
    "        self.gleak_init_min = 1\n",
    "        self.gleak_init_max = 1\n",
    "\n",
    "        self.w_min_value = 0.00001\n",
    "        self.w_max_value = 1000\n",
    "        self.gleak_min_value = 0.00001\n",
    "        self.gleak_max_value = 1000\n",
    "        self.cm_t_min_value = 0.000001\n",
    "        self.cm_t_max_value = 1000\n",
    "\n",
    "        self.fix_cm = None\n",
    "        self.fix_gleak = None\n",
    "        self.fix_vleak = None\n",
    "\n",
    "        self.is_built = False\n"
   ]
  },
  {
   "cell_type": "code",
   "execution_count": 4,
   "id": "0080c155",
   "metadata": {},
   "outputs": [],
   "source": [
    " def forward(self, inputs, state):\n",
    "        if not self.is_built:\n",
    "            self.build(inputs.size(1))\n",
    "\n",
    "        if inputs.size(1) != self.input_size:\n",
    "            raise ValueError(\"Input size mismatch\")\n",
    "\n",
    "        inputs = self.map_inputs(inputs)\n",
    "\n",
    "        if self.solver == ODESolver.Explicit:\n",
    "            next_state = self.ode_step_explicit(inputs, state)\n",
    "        elif self.solver == ODESolver.SemiImplicit:\n",
    "            next_state = self.ode_step(inputs, state)\n",
    "        elif self.solver == ODESolver.RungeKutta:\n",
    "            next_state = self.ode_step_runge_kutta(inputs, state)\n",
    "        else:\n",
    "            raise ValueError(\"Unknown ODE solver\")\n",
    "\n",
    "        outputs = next_state\n",
    "\n",
    "        return outputs, next_state"
   ]
  },
  {
   "cell_type": "code",
   "execution_count": 5,
   "id": "02a8cf07",
   "metadata": {},
   "outputs": [],
   "source": [
    "  def map_inputs(self, inputs):\n",
    "        if self.input_mapping == MappingType.Affine or self.input_mapping == MappingType.Linear:\n",
    "            w = torch.nn.Parameter(torch.ones(self.input_size))\n",
    "            inputs = inputs * w\n",
    "        if self.input_mapping == MappingType.Affine:\n",
    "            b = torch.nn.Parameter(torch.zeros(self.input_size))\n",
    "            inputs = inputs + b\n",
    "        return inputs\n"
   ]
  },
  {
   "cell_type": "code",
   "execution_count": 6,
   "id": "dd93b312",
   "metadata": {},
   "outputs": [],
   "source": [
    " def build(self, input_size):\n",
    "        self.input_size = input_size\n",
    "\n",
    "        self.sensory_mu = nn.Parameter(torch.rand(self.input_size, self.num_units) * 0.5 + 0.3)\n",
    "        self.sensory_sigma = nn.Parameter(torch.rand(self.input_size, self.num_units) * 5 + 3)\n",
    "        self.sensory_W = nn.Parameter(torch.ones(self.input_size, self.num_units))\n",
    "        sensory_erev_init = (2 * np.random.randint(0, 2, size=(self.input_size, self.num_units)) - 1).astype(np.float32)\n",
    "        self.sensory_erev = nn.Parameter(torch.tensor(sensory_erev_init) * self.erev_init_factor)\n",
    "\n",
    "        self.mu = nn.Parameter(torch.rand(self.num_units, self.num_units) * 0.5 + 0.3)\n",
    "        self.sigma = nn.Parameter(torch.rand(self.num_units, self.num_units) * 5 + 3)\n",
    "        self.W = nn.Parameter(torch.ones(self.num_units, self.num_units))\n",
    "        erev_init = (2 * np.random.randint(0, 2, size=(self.num_units, self.num_units)) - 1).astype(np.float32)\n",
    "        self.erev = nn.Parameter(torch.tensor(erev_init) * self.erev_init_factor)\n",
    "\n",
    "        if self.fix_vleak is None:\n",
    "            self.vleak = nn.Parameter(torch.rand(self.num_units) * 0.4 - 0.2)\n",
    "        else:\n",
    "            self.vleak = torch.tensor(self.fix_vleak, requires_grad=False)\n",
    "\n",
    "        if self.fix_gleak is None:\n",
    "            self.gleak = nn.Parameter(torch.ones(self.num_units) * self.gleak_init_min)\n",
    "        else:\n",
    "            self.gleak = torch.tensor(self.fix_gleak, requires_grad=False)\n",
    "\n",
    "        if self.fix_cm is None:\n",
    "            self.cm_t = nn.Parameter(torch.ones(self.num_units) * self.cm_init_min)\n",
    "        else:\n",
    "            self.cm_t = torch.tensor(self.fix_cm, requires_grad=False)\n",
    "\n",
    "        self.is_built = True"
   ]
  },
  {
   "cell_type": "code",
   "execution_count": 7,
   "id": "fe505e18",
   "metadata": {},
   "outputs": [],
   "source": [
    "def ode_step(self, inputs, state):\n",
    "        v_pre = state\n",
    "\n",
    "        sensory_w_activation = self.sensory_W * self.sigmoid(inputs, self.sensory_mu, self.sensory_sigma)\n",
    "        sensory_rev_activation = sensory_w_activation * self.sensory_erev\n",
    "\n",
    "        w_numerator_sensory = torch.sum(sensory_rev_activation, dim=1)\n",
    "        w_denominator_sensory = torch.sum(sensory_w_activation, dim=1)\n",
    "\n",
    "        for t in range(self.ode_solver_unfolds):\n",
    "            w_activation = self.W * self.sigmoid(v_pre, self.mu, self.sigma)\n",
    "\n",
    "            rev_activation = w_activation * self.erev\n",
    "\n",
    "            w_numerator = torch.sum(rev_activation, dim=1) + w_numerator_sensory\n",
    "            w_denominator = torch.sum(w_activation, dim=1) + w_denominator_sensory\n",
    "\n",
    "            numerator = self.cm_t * v_pre + self.gleak * self.vleak + w_numerator\n",
    "            denominator = self.cm_t + self.gleak + w_denominator\n",
    "\n",
    "            v_pre = numerator / denominator\n",
    "\n",
    "        return v_pre"
   ]
  },
  {
   "cell_type": "code",
   "execution_count": 8,
   "id": "106755db",
   "metadata": {},
   "outputs": [],
   "source": [
    " def sigmoid(self, v_pre, mu, sigma):\n",
    "        mues = v_pre - mu\n",
    "        x = sigma * mues\n",
    "        return torch.sigmoid(x)"
   ]
  },
  {
   "cell_type": "code",
   "execution_count": 9,
   "id": "7e7922a4",
   "metadata": {},
   "outputs": [],
   "source": [
    "  def get_param_constrain_op(self):\n",
    "        cm_clipping_op = torch.clamp(self.cm_t, self.cm_t_min_value, self.cm_t_max_value)\n",
    "        gleak_clipping_op = torch.clamp(self.gleak, self.gleak_min_value, self.gleak_max_value)\n",
    "        w_clipping_op = torch.clamp(self.W, self.w_min_value, self.w_max_value)\n",
    "        sensory_w_clipping_op = torch.clamp(self.sensory_W, self.w_min_value, self.w_max_value)\n",
    "\n",
    "        return [cm_clipping_op, gleak_clipping_op, w_clipping_op, sensory_w_clipping_op]"
   ]
  },
  {
   "cell_type": "code",
   "execution_count": null,
   "id": "5415de09",
   "metadata": {},
   "outputs": [],
   "source": []
  }
 ],
 "metadata": {
  "kernelspec": {
   "display_name": "Python 3 (ipykernel)",
   "language": "python",
   "name": "python3"
  },
  "language_info": {
   "codemirror_mode": {
    "name": "ipython",
    "version": 3
   },
   "file_extension": ".py",
   "mimetype": "text/x-python",
   "name": "python",
   "nbconvert_exporter": "python",
   "pygments_lexer": "ipython3",
   "version": "3.11.5"
  }
 },
 "nbformat": 4,
 "nbformat_minor": 5
}
