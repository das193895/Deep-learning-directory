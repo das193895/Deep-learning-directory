{
 "cells": [
  {
   "cell_type": "markdown",
   "id": "a763fad8",
   "metadata": {},
   "source": [
    "## Part - a (2nd part)"
   ]
  },
  {
   "cell_type": "code",
   "execution_count": null,
   "id": "7af2d0bb",
   "metadata": {},
   "outputs": [],
   "source": [
    "import numpy as np\n",
    "import matplotlib.pyplot as plt\n",
    "\n",
    "# Define the Heaviside function and its gradient\n",
    "def heaviside(xi):\n",
    "    if xi >= 0:\n",
    "        return 1\n",
    "    else:\n",
    "        return 0\n",
    "\n",
    "def true_gradient(xi):\n",
    "    return np.where(xi == 0, np.nan, 0)\n",
    "\n",
    "\n",
    "# Define the idealized gradient\n",
    "def idealized_gradient(xi, k):\n",
    "    return 1 / (1 + k * np.abs(xi))**2\n",
    "\n",
    "# Generate xi values\n",
    "xi_values = np.linspace(-2, 2, 1000)\n",
    "\n",
    "# Compute gradients for different values of k\n",
    "k_values = [1, 5, 10, 20, 50]\n",
    "plt.figure(figsize=(10, 6))\n",
    "for k in k_values:\n",
    "    plt.plot(xi_values, true_gradient(xi_values), label='True Gradient', color='blue', linestyle='--')\n",
    "    plt.plot(xi_values, idealized_gradient(xi_values, k), label=f'Idealized Gradient (k={k})', color='red')\n",
    "    plt.xlabel('ξ')\n",
    "    plt.ylabel('Gradient')\n",
    "    plt.title('True vs. Idealized Gradient')\n",
    "    plt.legend()\n",
    "    plt.grid(True)\n",
    "    plt.show()\n"
   ]
  },
  {
   "cell_type": "markdown",
   "id": "3a22b67b",
   "metadata": {},
   "source": [
    "## Part - b"
   ]
  },
  {
   "cell_type": "code",
   "execution_count": 7,
   "id": "2b876053",
   "metadata": {},
   "outputs": [
    {
     "name": "stdout",
     "output_type": "stream",
     "text": [
      "Output spike train y: [0. 0. 1.]\n"
     ]
    }
   ],
   "source": [
    "# Define parameters\n",
    "T = 3\n",
    "x = np.array([1, 0, 1])\n",
    "w = 0.5\n",
    "b = 0.05\n",
    "β = 0.95\n",
    "Th = 0.75\n",
    "V_0 = 0\n",
    "\n",
    "# Initialize voltage and output arrays\n",
    "V = np.zeros(T)\n",
    "y = np.zeros(T)\n",
    "\n",
    "# Iterate over time steps\n",
    "for t in range(T):\n",
    "    # Compute input at time step t\n",
    "    I_t = w * x[t] + b\n",
    "    # Compute voltage at time step t\n",
    "    V[t] = β * V_0 + I_t\n",
    "    # Compute output at time step t\n",
    "    y[t] = 1 if V[t] >= Th else 0\n",
    "    # Reset voltage if output is 1\n",
    "    if y[t] == 1:\n",
    "        V_0 = 0\n",
    "    else:\n",
    "        V_0 = V[t]\n",
    "\n",
    "# Print the output spike train\n",
    "print(\"Output spike train y:\", y)"
   ]
  },
  {
   "cell_type": "code",
   "execution_count": null,
   "id": "5da2cdc9",
   "metadata": {},
   "outputs": [],
   "source": []
  }
 ],
 "metadata": {
  "kernelspec": {
   "display_name": "Python 3 (ipykernel)",
   "language": "python",
   "name": "python3"
  },
  "language_info": {
   "codemirror_mode": {
    "name": "ipython",
    "version": 3
   },
   "file_extension": ".py",
   "mimetype": "text/x-python",
   "name": "python",
   "nbconvert_exporter": "python",
   "pygments_lexer": "ipython3",
   "version": "3.11.5"
  }
 },
 "nbformat": 4,
 "nbformat_minor": 5
}
