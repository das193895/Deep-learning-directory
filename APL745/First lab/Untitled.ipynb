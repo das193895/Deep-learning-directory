{
 "cells": [
  {
   "cell_type": "code",
   "execution_count": 1,
   "id": "52f1a0e8",
   "metadata": {},
   "outputs": [],
   "source": [
    "import pandas as pd\n",
    "import numpy as np\n",
    "import matplotlib.pyplot as plt\n",
    "import seaborn as sns\n",
    "%matplotlib inline\n",
    "import warnings\n",
    "warnings.filterwarnings(\"ignore\")"
   ]
  },
  {
   "cell_type": "code",
   "execution_count": 29,
   "id": "f4fdec03",
   "metadata": {},
   "outputs": [
    {
     "data": {
      "text/html": [
       "<div>\n",
       "<style scoped>\n",
       "    .dataframe tbody tr th:only-of-type {\n",
       "        vertical-align: middle;\n",
       "    }\n",
       "\n",
       "    .dataframe tbody tr th {\n",
       "        vertical-align: top;\n",
       "    }\n",
       "\n",
       "    .dataframe thead th {\n",
       "        text-align: right;\n",
       "    }\n",
       "</style>\n",
       "<table border=\"1\" class=\"dataframe\">\n",
       "  <thead>\n",
       "    <tr style=\"text-align: right;\">\n",
       "      <th></th>\n",
       "      <th>Elastic_Modulus (GPa)</th>\n",
       "      <th>Load (kN)</th>\n",
       "      <th>Length_of_Beam (m)</th>\n",
       "      <th>X-sectional Width b (mm)</th>\n",
       "      <th>X-sectional Height h (mm)</th>\n",
       "      <th>Max Deflection (mm)</th>\n",
       "    </tr>\n",
       "  </thead>\n",
       "  <tbody>\n",
       "    <tr>\n",
       "      <th>0</th>\n",
       "      <td>151</td>\n",
       "      <td>2</td>\n",
       "      <td>11</td>\n",
       "      <td>58</td>\n",
       "      <td>95</td>\n",
       "      <td>88.62827</td>\n",
       "    </tr>\n",
       "    <tr>\n",
       "      <th>1</th>\n",
       "      <td>158</td>\n",
       "      <td>3</td>\n",
       "      <td>7</td>\n",
       "      <td>61</td>\n",
       "      <td>88</td>\n",
       "      <td>39.16701</td>\n",
       "    </tr>\n",
       "    <tr>\n",
       "      <th>2</th>\n",
       "      <td>158</td>\n",
       "      <td>4</td>\n",
       "      <td>5</td>\n",
       "      <td>36</td>\n",
       "      <td>91</td>\n",
       "      <td>29.16260</td>\n",
       "    </tr>\n",
       "    <tr>\n",
       "      <th>3</th>\n",
       "      <td>141</td>\n",
       "      <td>1</td>\n",
       "      <td>15</td>\n",
       "      <td>31</td>\n",
       "      <td>84</td>\n",
       "      <td>325.68300</td>\n",
       "    </tr>\n",
       "    <tr>\n",
       "      <th>4</th>\n",
       "      <td>177</td>\n",
       "      <td>4</td>\n",
       "      <td>13</td>\n",
       "      <td>62</td>\n",
       "      <td>106</td>\n",
       "      <td>168.09220</td>\n",
       "    </tr>\n",
       "  </tbody>\n",
       "</table>\n",
       "</div>"
      ],
      "text/plain": [
       "   Elastic_Modulus (GPa)  Load (kN)  Length_of_Beam (m)  \\\n",
       "0                    151          2                  11   \n",
       "1                    158          3                   7   \n",
       "2                    158          4                   5   \n",
       "3                    141          1                  15   \n",
       "4                    177          4                  13   \n",
       "\n",
       "   X-sectional Width b (mm)  X-sectional Height h (mm)  Max Deflection (mm)  \n",
       "0                        58                         95             88.62827  \n",
       "1                        61                         88             39.16701  \n",
       "2                        36                         91             29.16260  \n",
       "3                        31                         84            325.68300  \n",
       "4                        62                        106            168.09220  "
      ]
     },
     "execution_count": 29,
     "metadata": {},
     "output_type": "execute_result"
    }
   ],
   "source": [
    "df = pd.read_csv(\"beam_data_1.csv\")\n",
    "df.head()"
   ]
  },
  {
   "cell_type": "code",
   "execution_count": 32,
   "id": "f12da7a2",
   "metadata": {},
   "outputs": [
    {
     "data": {
      "text/html": [
       "<div>\n",
       "<style scoped>\n",
       "    .dataframe tbody tr th:only-of-type {\n",
       "        vertical-align: middle;\n",
       "    }\n",
       "\n",
       "    .dataframe tbody tr th {\n",
       "        vertical-align: top;\n",
       "    }\n",
       "\n",
       "    .dataframe thead th {\n",
       "        text-align: right;\n",
       "    }\n",
       "</style>\n",
       "<table border=\"1\" class=\"dataframe\">\n",
       "  <thead>\n",
       "    <tr style=\"text-align: right;\">\n",
       "      <th></th>\n",
       "      <th>Elastic_Modulus (GPa)</th>\n",
       "      <th>Load (kN)</th>\n",
       "      <th>Length_of_Beam (m)</th>\n",
       "      <th>X-sectional Width b (mm)</th>\n",
       "      <th>X-sectional Height h (mm)</th>\n",
       "      <th>Max Deflection (mm)</th>\n",
       "    </tr>\n",
       "  </thead>\n",
       "  <tbody>\n",
       "    <tr>\n",
       "      <th>0</th>\n",
       "      <td>151</td>\n",
       "      <td>2</td>\n",
       "      <td>11</td>\n",
       "      <td>58</td>\n",
       "      <td>95</td>\n",
       "      <td>88.62827</td>\n",
       "    </tr>\n",
       "  </tbody>\n",
       "</table>\n",
       "</div>"
      ],
      "text/plain": [
       "   Elastic_Modulus (GPa)  Load (kN)  Length_of_Beam (m)  \\\n",
       "0                    151          2                  11   \n",
       "\n",
       "   X-sectional Width b (mm)  X-sectional Height h (mm)  Max Deflection (mm)  \n",
       "0                        58                         95             88.62827  "
      ]
     },
     "execution_count": 32,
     "metadata": {},
     "output_type": "execute_result"
    }
   ],
   "source": [
    "df.iloc[0:1,:]"
   ]
  },
  {
   "cell_type": "code",
   "execution_count": 33,
   "id": "a2e08e3f",
   "metadata": {},
   "outputs": [],
   "source": [
    "## Function for loading the data and train test split\n",
    "\n",
    "def data_preprocessing(csv_file,train_size,test_size,The_target_variable):\n",
    "    \n",
    "    # load the data using pandas\n",
    "    \n",
    "    df = pd.read_csv(csv_file)\n",
    "    \n",
    "    print(f\"The shape of your dataset is : {df.shape}\")\n",
    "    \n",
    "    total_no_of_rows = df.shape[0]\n",
    "    total_no_of_columns = df.shape[1]\n",
    "    \n",
    "    # The input features(dependent features) & The target variable(independent feature)\n",
    "    \n",
    "    X = df.drop(The_target_variable,axis = 1)\n",
    "    y = df[[The_target_variable]]\n",
    "    \n",
    "    # Train_test_split\n",
    "    \n",
    "    no_of_rows_for_training = total_no_of_rows*(train_size/100)\n",
    "    no_of_rows_for_testing = total_no_of_rows*(test_size/100)\n",
    "    \n",
    "    train_X = X.iloc[0:int(no_of_rows_for_training),:] \n",
    "    test_X = X.iloc[int(no_of_rows_for_training):total_no_of_rows,:]\n",
    " \n",
    "    train_y = y.iloc[1:int(no_of_rows_for_training),:]\n",
    "    test_y = y.iloc[int(no_of_rows_for_training):total_no_of_rows,:]\n",
    "    \n",
    "    print(f\"The shape of your traing data set is: {train_X.shape}\")\n",
    "    print(f\"The shape of your testing data set is : {test_X.shape}\")\n",
    "    \n",
    "    ## Convert the pandas dataframe to to Numpy array to do model building\n",
    "    \n",
    "    train_X_arr = train_X.to_numpy()\n",
    "    train_y_arr = train_y.to_numpy()\n",
    "    test_X_arr = test_X.to_numpy()\n",
    "    test_y_arr = test_y.to_numpy()\n",
    "    \n",
    "    print(\"your dataframe has been splitted to a traing and testing dataset as well as it has been converted to numpy array for furthe preprocessing\")\n",
    "    \n",
    "    return train_X_arr, train_y_arr, test_X_arr, test_y_arr\n",
    "    "
   ]
  },
  {
   "cell_type": "code",
   "execution_count": 34,
   "id": "ababef96",
   "metadata": {},
   "outputs": [
    {
     "name": "stdout",
     "output_type": "stream",
     "text": [
      "The shape of your dataset is : (10000, 6)\n",
      "The shape of your traing data set is: (7500, 5)\n",
      "The shape of your testing data set is : (2500, 5)\n",
      "your dataframe has been splitted to a traing and testing dataset as well as it has been converted to numpy array for furthe preprocessing\n"
     ]
    },
    {
     "data": {
      "text/plain": [
       "(array([[151,   2,  11,  58,  95],\n",
       "        [158,   3,   7,  61,  88],\n",
       "        [158,   4,   5,  36,  91],\n",
       "        ...,\n",
       "        [180,   2,   6,  66,  93],\n",
       "        [139,   1,  10,  31,  94],\n",
       "        [125,   5,  14,  65,  81]], dtype=int64),\n",
       " array([[ 39.16701 ],\n",
       "        [ 29.1626  ],\n",
       "        [325.683   ],\n",
       "        ...,\n",
       "        [ 11.302083],\n",
       "        [ 69.85218 ],\n",
       "        [794.35693 ]]),\n",
       " array([[168,   1,  14,  51, 103],\n",
       "        [174,   4,  10,  38,  95],\n",
       "        [144,   4,  12,  61, 103],\n",
       "        ...,\n",
       "        [186,   2,  13,  54,  95],\n",
       "        [120,   3,  12,  52, 107],\n",
       "        [176,   5,  11,  68,  86]], dtype=int64),\n",
       " array([[ 73.27115],\n",
       "        [176.3991 ],\n",
       "        [180.02786],\n",
       "        ...,\n",
       "        [127.56236],\n",
       "        [169.53879],\n",
       "        [218.56023]]))"
      ]
     },
     "execution_count": 34,
     "metadata": {},
     "output_type": "execute_result"
    }
   ],
   "source": [
    "data_preprocessing(\"beam_data_1.csv\",75,25,\"Max Deflection (mm)\")"
   ]
  },
  {
   "cell_type": "code",
   "execution_count": null,
   "id": "6772ddfb",
   "metadata": {},
   "outputs": [],
   "source": []
  }
 ],
 "metadata": {
  "kernelspec": {
   "display_name": "Python 3 (ipykernel)",
   "language": "python",
   "name": "python3"
  },
  "language_info": {
   "codemirror_mode": {
    "name": "ipython",
    "version": 3
   },
   "file_extension": ".py",
   "mimetype": "text/x-python",
   "name": "python",
   "nbconvert_exporter": "python",
   "pygments_lexer": "ipython3",
   "version": "3.10.9"
  }
 },
 "nbformat": 4,
 "nbformat_minor": 5
}
