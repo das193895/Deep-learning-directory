{
 "cells": [
  {
   "cell_type": "code",
   "execution_count": 1,
   "id": "6b1bc0ea",
   "metadata": {},
   "outputs": [],
   "source": [
    "import pandas as pd\n",
    "import numpy as np\n",
    "import matplotlib.pyplot as plt\n",
    "import seaborn as sns\n",
    "%matplotlib inline\n",
    "import warnings\n",
    "warnings.filterwarnings(\"ignore\")"
   ]
  },
  {
   "cell_type": "markdown",
   "id": "a0c02055",
   "metadata": {},
   "source": [
    "## Data gathering and Train-Test-split"
   ]
  },
  {
   "cell_type": "code",
   "execution_count": 2,
   "id": "f736990f",
   "metadata": {},
   "outputs": [],
   "source": [
    "## Load the data set \n",
    "df = pd.read_csv(\"beam_data_1.csv\")"
   ]
  },
  {
   "cell_type": "code",
   "execution_count": 3,
   "id": "ec69b8d5",
   "metadata": {},
   "outputs": [
    {
     "data": {
      "text/html": [
       "<div>\n",
       "<style scoped>\n",
       "    .dataframe tbody tr th:only-of-type {\n",
       "        vertical-align: middle;\n",
       "    }\n",
       "\n",
       "    .dataframe tbody tr th {\n",
       "        vertical-align: top;\n",
       "    }\n",
       "\n",
       "    .dataframe thead th {\n",
       "        text-align: right;\n",
       "    }\n",
       "</style>\n",
       "<table border=\"1\" class=\"dataframe\">\n",
       "  <thead>\n",
       "    <tr style=\"text-align: right;\">\n",
       "      <th></th>\n",
       "      <th>Elastic_Modulus (GPa)</th>\n",
       "      <th>Load (kN)</th>\n",
       "      <th>Length_of_Beam (m)</th>\n",
       "      <th>X-sectional Width b (mm)</th>\n",
       "      <th>X-sectional Height h (mm)</th>\n",
       "      <th>Max Deflection (mm)</th>\n",
       "    </tr>\n",
       "  </thead>\n",
       "  <tbody>\n",
       "    <tr>\n",
       "      <th>0</th>\n",
       "      <td>151</td>\n",
       "      <td>2</td>\n",
       "      <td>11</td>\n",
       "      <td>58</td>\n",
       "      <td>95</td>\n",
       "      <td>88.62827</td>\n",
       "    </tr>\n",
       "    <tr>\n",
       "      <th>1</th>\n",
       "      <td>158</td>\n",
       "      <td>3</td>\n",
       "      <td>7</td>\n",
       "      <td>61</td>\n",
       "      <td>88</td>\n",
       "      <td>39.16701</td>\n",
       "    </tr>\n",
       "    <tr>\n",
       "      <th>2</th>\n",
       "      <td>158</td>\n",
       "      <td>4</td>\n",
       "      <td>5</td>\n",
       "      <td>36</td>\n",
       "      <td>91</td>\n",
       "      <td>29.16260</td>\n",
       "    </tr>\n",
       "    <tr>\n",
       "      <th>3</th>\n",
       "      <td>141</td>\n",
       "      <td>1</td>\n",
       "      <td>15</td>\n",
       "      <td>31</td>\n",
       "      <td>84</td>\n",
       "      <td>325.68300</td>\n",
       "    </tr>\n",
       "    <tr>\n",
       "      <th>4</th>\n",
       "      <td>177</td>\n",
       "      <td>4</td>\n",
       "      <td>13</td>\n",
       "      <td>62</td>\n",
       "      <td>106</td>\n",
       "      <td>168.09220</td>\n",
       "    </tr>\n",
       "  </tbody>\n",
       "</table>\n",
       "</div>"
      ],
      "text/plain": [
       "   Elastic_Modulus (GPa)  Load (kN)  Length_of_Beam (m)  \\\n",
       "0                    151          2                  11   \n",
       "1                    158          3                   7   \n",
       "2                    158          4                   5   \n",
       "3                    141          1                  15   \n",
       "4                    177          4                  13   \n",
       "\n",
       "   X-sectional Width b (mm)  X-sectional Height h (mm)  Max Deflection (mm)  \n",
       "0                        58                         95             88.62827  \n",
       "1                        61                         88             39.16701  \n",
       "2                        36                         91             29.16260  \n",
       "3                        31                         84            325.68300  \n",
       "4                        62                        106            168.09220  "
      ]
     },
     "execution_count": 3,
     "metadata": {},
     "output_type": "execute_result"
    }
   ],
   "source": [
    "(df.head())"
   ]
  },
  {
   "cell_type": "code",
   "execution_count": 4,
   "id": "f0cfe47f",
   "metadata": {},
   "outputs": [
    {
     "data": {
      "text/plain": [
       "(10000, 6)"
      ]
     },
     "execution_count": 4,
     "metadata": {},
     "output_type": "execute_result"
    }
   ],
   "source": [
    "df.shape"
   ]
  },
  {
   "cell_type": "code",
   "execution_count": 5,
   "id": "cb5b079a",
   "metadata": {},
   "outputs": [
    {
     "data": {
      "text/plain": [
       "tuple"
      ]
     },
     "execution_count": 5,
     "metadata": {},
     "output_type": "execute_result"
    }
   ],
   "source": [
    "type(df.shape)"
   ]
  },
  {
   "cell_type": "code",
   "execution_count": 6,
   "id": "41b56ffc",
   "metadata": {},
   "outputs": [
    {
     "name": "stdout",
     "output_type": "stream",
     "text": [
      "<class 'pandas.core.frame.DataFrame'>\n",
      "RangeIndex: 10000 entries, 0 to 9999\n",
      "Data columns (total 6 columns):\n",
      " #   Column                     Non-Null Count  Dtype  \n",
      "---  ------                     --------------  -----  \n",
      " 0   Elastic_Modulus (GPa)      10000 non-null  int64  \n",
      " 1   Load (kN)                  10000 non-null  int64  \n",
      " 2   Length_of_Beam (m)         10000 non-null  int64  \n",
      " 3   X-sectional Width b (mm)   10000 non-null  int64  \n",
      " 4   X-sectional Height h (mm)  10000 non-null  int64  \n",
      " 5   Max Deflection (mm)        10000 non-null  float64\n",
      "dtypes: float64(1), int64(5)\n",
      "memory usage: 468.9 KB\n"
     ]
    }
   ],
   "source": [
    "df.info()"
   ]
  },
  {
   "cell_type": "code",
   "execution_count": 7,
   "id": "da353ed6",
   "metadata": {},
   "outputs": [
    {
     "data": {
      "text/plain": [
       "Elastic_Modulus (GPa)        0\n",
       "Load (kN)                    0\n",
       "Length_of_Beam (m)           0\n",
       "X-sectional Width b (mm)     0\n",
       "X-sectional Height h (mm)    0\n",
       "Max Deflection (mm)          0\n",
       "dtype: int64"
      ]
     },
     "execution_count": 7,
     "metadata": {},
     "output_type": "execute_result"
    }
   ],
   "source": [
    "df.isnull().sum()"
   ]
  },
  {
   "cell_type": "code",
   "execution_count": 8,
   "id": "98b17e96",
   "metadata": {},
   "outputs": [],
   "source": [
    "## Separate the input and output variables\n",
    "\n",
    "X = df.drop(\"Max Deflection (mm)\",axis = 1)\n",
    "y = df[[\"Max Deflection (mm)\"]]"
   ]
  },
  {
   "cell_type": "code",
   "execution_count": 9,
   "id": "9f4f68d1",
   "metadata": {},
   "outputs": [
    {
     "data": {
      "text/html": [
       "<div>\n",
       "<style scoped>\n",
       "    .dataframe tbody tr th:only-of-type {\n",
       "        vertical-align: middle;\n",
       "    }\n",
       "\n",
       "    .dataframe tbody tr th {\n",
       "        vertical-align: top;\n",
       "    }\n",
       "\n",
       "    .dataframe thead th {\n",
       "        text-align: right;\n",
       "    }\n",
       "</style>\n",
       "<table border=\"1\" class=\"dataframe\">\n",
       "  <thead>\n",
       "    <tr style=\"text-align: right;\">\n",
       "      <th></th>\n",
       "      <th>Elastic_Modulus (GPa)</th>\n",
       "      <th>Load (kN)</th>\n",
       "      <th>Length_of_Beam (m)</th>\n",
       "      <th>X-sectional Width b (mm)</th>\n",
       "      <th>X-sectional Height h (mm)</th>\n",
       "    </tr>\n",
       "  </thead>\n",
       "  <tbody>\n",
       "    <tr>\n",
       "      <th>0</th>\n",
       "      <td>151</td>\n",
       "      <td>2</td>\n",
       "      <td>11</td>\n",
       "      <td>58</td>\n",
       "      <td>95</td>\n",
       "    </tr>\n",
       "    <tr>\n",
       "      <th>1</th>\n",
       "      <td>158</td>\n",
       "      <td>3</td>\n",
       "      <td>7</td>\n",
       "      <td>61</td>\n",
       "      <td>88</td>\n",
       "    </tr>\n",
       "    <tr>\n",
       "      <th>2</th>\n",
       "      <td>158</td>\n",
       "      <td>4</td>\n",
       "      <td>5</td>\n",
       "      <td>36</td>\n",
       "      <td>91</td>\n",
       "    </tr>\n",
       "    <tr>\n",
       "      <th>3</th>\n",
       "      <td>141</td>\n",
       "      <td>1</td>\n",
       "      <td>15</td>\n",
       "      <td>31</td>\n",
       "      <td>84</td>\n",
       "    </tr>\n",
       "    <tr>\n",
       "      <th>4</th>\n",
       "      <td>177</td>\n",
       "      <td>4</td>\n",
       "      <td>13</td>\n",
       "      <td>62</td>\n",
       "      <td>106</td>\n",
       "    </tr>\n",
       "  </tbody>\n",
       "</table>\n",
       "</div>"
      ],
      "text/plain": [
       "   Elastic_Modulus (GPa)  Load (kN)  Length_of_Beam (m)  \\\n",
       "0                    151          2                  11   \n",
       "1                    158          3                   7   \n",
       "2                    158          4                   5   \n",
       "3                    141          1                  15   \n",
       "4                    177          4                  13   \n",
       "\n",
       "   X-sectional Width b (mm)  X-sectional Height h (mm)  \n",
       "0                        58                         95  \n",
       "1                        61                         88  \n",
       "2                        36                         91  \n",
       "3                        31                         84  \n",
       "4                        62                        106  "
      ]
     },
     "execution_count": 9,
     "metadata": {},
     "output_type": "execute_result"
    }
   ],
   "source": [
    "X.head()"
   ]
  },
  {
   "cell_type": "code",
   "execution_count": 10,
   "id": "cb6b85b1",
   "metadata": {},
   "outputs": [
    {
     "data": {
      "text/html": [
       "<div>\n",
       "<style scoped>\n",
       "    .dataframe tbody tr th:only-of-type {\n",
       "        vertical-align: middle;\n",
       "    }\n",
       "\n",
       "    .dataframe tbody tr th {\n",
       "        vertical-align: top;\n",
       "    }\n",
       "\n",
       "    .dataframe thead th {\n",
       "        text-align: right;\n",
       "    }\n",
       "</style>\n",
       "<table border=\"1\" class=\"dataframe\">\n",
       "  <thead>\n",
       "    <tr style=\"text-align: right;\">\n",
       "      <th></th>\n",
       "      <th>Max Deflection (mm)</th>\n",
       "    </tr>\n",
       "  </thead>\n",
       "  <tbody>\n",
       "    <tr>\n",
       "      <th>0</th>\n",
       "      <td>88.62827</td>\n",
       "    </tr>\n",
       "    <tr>\n",
       "      <th>1</th>\n",
       "      <td>39.16701</td>\n",
       "    </tr>\n",
       "    <tr>\n",
       "      <th>2</th>\n",
       "      <td>29.16260</td>\n",
       "    </tr>\n",
       "    <tr>\n",
       "      <th>3</th>\n",
       "      <td>325.68300</td>\n",
       "    </tr>\n",
       "    <tr>\n",
       "      <th>4</th>\n",
       "      <td>168.09220</td>\n",
       "    </tr>\n",
       "  </tbody>\n",
       "</table>\n",
       "</div>"
      ],
      "text/plain": [
       "   Max Deflection (mm)\n",
       "0             88.62827\n",
       "1             39.16701\n",
       "2             29.16260\n",
       "3            325.68300\n",
       "4            168.09220"
      ]
     },
     "execution_count": 10,
     "metadata": {},
     "output_type": "execute_result"
    }
   ],
   "source": [
    "y.head()"
   ]
  },
  {
   "cell_type": "code",
   "execution_count": 11,
   "id": "b35aa3ee",
   "metadata": {},
   "outputs": [],
   "source": [
    "## Gathering data for Training and testing\n",
    "\n",
    "## I am splitting in the ratio 75:25\n",
    "\n",
    "## There are 10000 rows in the data set \n",
    "\n",
    "## rows for training 7500 and rows for testing -- 2500\n",
    "\n",
    "train_X = X.iloc[0:7500,:] \n",
    "test_X = X.iloc[7500:10000,:]\n",
    "\n",
    "train_y = y.iloc[0:7500,:]\n",
    "test_y = y.iloc[7500:10000,:]"
   ]
  },
  {
   "cell_type": "code",
   "execution_count": 12,
   "id": "e5663445",
   "metadata": {},
   "outputs": [
    {
     "data": {
      "text/plain": [
       "(7500, 5)"
      ]
     },
     "execution_count": 12,
     "metadata": {},
     "output_type": "execute_result"
    }
   ],
   "source": [
    "train_X.shape"
   ]
  },
  {
   "cell_type": "code",
   "execution_count": 13,
   "id": "f2266440",
   "metadata": {},
   "outputs": [
    {
     "data": {
      "text/plain": [
       "(7500, 1)"
      ]
     },
     "execution_count": 13,
     "metadata": {},
     "output_type": "execute_result"
    }
   ],
   "source": [
    "train_y.shape"
   ]
  },
  {
   "cell_type": "code",
   "execution_count": 14,
   "id": "f1b5927b",
   "metadata": {},
   "outputs": [
    {
     "data": {
      "text/plain": [
       "(2500, 5)"
      ]
     },
     "execution_count": 14,
     "metadata": {},
     "output_type": "execute_result"
    }
   ],
   "source": [
    "test_X.shape"
   ]
  },
  {
   "cell_type": "code",
   "execution_count": 15,
   "id": "9c7da444",
   "metadata": {},
   "outputs": [
    {
     "data": {
      "text/plain": [
       "(2500, 1)"
      ]
     },
     "execution_count": 15,
     "metadata": {},
     "output_type": "execute_result"
    }
   ],
   "source": [
    "test_y.shape"
   ]
  },
  {
   "cell_type": "code",
   "execution_count": 16,
   "id": "f3353b6c",
   "metadata": {},
   "outputs": [],
   "source": [
    "## Converting the dataframe to numpy Array\n",
    "\n",
    "train_X_arr = train_X.to_numpy()\n",
    "train_y_arr = train_y.to_numpy()\n",
    "test_X_arr = test_X.to_numpy()\n",
    "test_y_arr = test_y.to_numpy()"
   ]
  },
  {
   "cell_type": "code",
   "execution_count": 17,
   "id": "1b0a34e3",
   "metadata": {},
   "outputs": [
    {
     "name": "stdout",
     "output_type": "stream",
     "text": [
      "<class 'pandas.core.frame.DataFrame'> <class 'pandas.core.frame.DataFrame'>\n"
     ]
    }
   ],
   "source": [
    "print(type(X),type(y))"
   ]
  },
  {
   "cell_type": "code",
   "execution_count": 18,
   "id": "7fb0a011",
   "metadata": {},
   "outputs": [
    {
     "data": {
      "text/plain": [
       "(7500, 5)"
      ]
     },
     "execution_count": 18,
     "metadata": {},
     "output_type": "execute_result"
    }
   ],
   "source": [
    "train_X_arr.shape"
   ]
  },
  {
   "cell_type": "code",
   "execution_count": 19,
   "id": "b7b6872f",
   "metadata": {},
   "outputs": [
    {
     "data": {
      "text/plain": [
       "(7500, 1)"
      ]
     },
     "execution_count": 19,
     "metadata": {},
     "output_type": "execute_result"
    }
   ],
   "source": [
    "train_y_arr.shape"
   ]
  },
  {
   "cell_type": "code",
   "execution_count": 20,
   "id": "39034c54",
   "metadata": {},
   "outputs": [
    {
     "data": {
      "text/plain": [
       "(2500, 5)"
      ]
     },
     "execution_count": 20,
     "metadata": {},
     "output_type": "execute_result"
    }
   ],
   "source": [
    "test_X_arr.shape"
   ]
  },
  {
   "cell_type": "code",
   "execution_count": 21,
   "id": "1bca3f99",
   "metadata": {},
   "outputs": [
    {
     "data": {
      "text/plain": [
       "(2500, 1)"
      ]
     },
     "execution_count": 21,
     "metadata": {},
     "output_type": "execute_result"
    }
   ],
   "source": [
    "test_y_arr.shape"
   ]
  },
  {
   "cell_type": "markdown",
   "id": "80e55fef",
   "metadata": {},
   "source": [
    "## Model Building"
   ]
  },
  {
   "cell_type": "code",
   "execution_count": 22,
   "id": "fd32caa0",
   "metadata": {},
   "outputs": [],
   "source": [
    "## Using the basis function --- phi(x) = x (Linear basis function)"
   ]
  },
  {
   "cell_type": "code",
   "execution_count": 23,
   "id": "e6bcd189",
   "metadata": {},
   "outputs": [],
   "source": [
    "# def linear_regression_1(X_given,y,learning_rate,eps):\n",
    "    \n",
    "#     X = np.insert(X_given, 0, 1, axis=1)\n",
    "    \n",
    "#     # calculate shape of your feature matrix(X)\n",
    "    \n",
    "#     feature_matrix_shape = X.shape\n",
    "#     no_of_rows_in_feature_matrix = feature_matrix_shape[0]\n",
    "#     no_of_columns_in_feature_matrix = feature_matrix_shape[1]\n",
    "    \n",
    "#     ## Intialise a weight matrix with a shape (no_of_rows_in_feature_matrix by 1)\n",
    "    \n",
    "#     curr_weights = np.ones((no_of_columns_in_feature_matrix,1),dtype = float)\n",
    "    \n",
    "#     error = 100.0\n",
    "    \n",
    "#     while np.any(error>eps):\n",
    "        \n",
    "#         for i in range (1):\n",
    "            \n",
    "#             operation_matrix_scalar = np.dot((np.transpose(curr_weights)),X[i,:]) - y[i,:]\n",
    "#             X[i,:] = X[i,:] + operation_matrix_scalar*X[i,:]\n",
    "        \n",
    "#         next_weights = curr_weights - learning_rate*X[i,:]\n",
    "        \n",
    "#         er = next_weights - curr_weights\n",
    "        \n",
    "#         error = np.abs(er[0,:])\n",
    "        \n",
    "        \n",
    "        \n",
    "#     print(error)\n",
    "#     return curr_weights\n",
    "        \n",
    "    \n",
    "    \n",
    "    \n"
   ]
  },
  {
   "cell_type": "code",
   "execution_count": 24,
   "id": "be78824c",
   "metadata": {},
   "outputs": [],
   "source": [
    "def computing_cost_fn(feature_matrix, target_var, weight_matrix):\n",
    "    \n",
    "    ones_column = np.ones((feature_matrix.shape[0], 1))\n",
    "    X = np.hstack((ones_column, feature_matrix))\n",
    "    y = target_var\n",
    "\n",
    "    no_of_samples = X.shape[0]\n",
    "    \n",
    "    summation = 0.0;\n",
    "    \n",
    "    \n",
    "    for x,y in zip(X, y):\n",
    "        y_hat = np.dot(x,weight_matrix)\n",
    "        summation += (y_hat - y) ** 2\n",
    "        \n",
    "    final_cost = summation / (no_of_samples * 2.0)\n",
    "\n",
    "    return final_cost[0]"
   ]
  },
  {
   "cell_type": "code",
   "execution_count": 25,
   "id": "0f309f75",
   "metadata": {},
   "outputs": [],
   "source": [
    "weights = np.ones((train_X_arr.shape[1] + 1,train_y_arr.shape[1]))"
   ]
  },
  {
   "cell_type": "code",
   "execution_count": 26,
   "id": "bb08a2ad",
   "metadata": {},
   "outputs": [
    {
     "data": {
      "text/plain": [
       "(6, 1)"
      ]
     },
     "execution_count": 26,
     "metadata": {},
     "output_type": "execute_result"
    }
   ],
   "source": [
    "weights.shape"
   ]
  },
  {
   "cell_type": "code",
   "execution_count": 27,
   "id": "da1e44c2",
   "metadata": {},
   "outputs": [
    {
     "data": {
      "text/plain": [
       "32380.78207964174"
      ]
     },
     "execution_count": 27,
     "metadata": {},
     "output_type": "execute_result"
    }
   ],
   "source": [
    "computing_cost_fn(train_X_arr,train_y_arr,weights)"
   ]
  },
  {
   "cell_type": "code",
   "execution_count": 66,
   "id": "e2c26ef0",
   "metadata": {},
   "outputs": [],
   "source": [
    "def gradient_descent(feature_matrix, target_var, weight_matrix,learning_rate,max_iter):\n",
    "    \n",
    "    iteration = 0\n",
    "    \n",
    "    cost = np.zeros(((max_iter),1))\n",
    "    \n",
    "    ones_column = np.ones((feature_matrix.shape[0], 1))\n",
    "    \n",
    "    X = np.hstack((ones_column, feature_matrix))\n",
    "    \n",
    "    no_of_samples = X.shape[0]\n",
    "    \n",
    "    \n",
    "    while iteration < max_iter:\n",
    "        \n",
    "        gradient = np.zeros((X.shape[1],1))\n",
    "        \n",
    "        cost[iteration] = computing_cost_fn(feature_matrix, target_var, weight_matrix)\n",
    "        \n",
    "        for x,y in zip(X, target_var):\n",
    "            \n",
    "            y_hat = np.dot(x,weight_matrix)\n",
    "            \n",
    "            gradient = gradient + ((y_hat - y) * x.T)\n",
    "            \n",
    "            \n",
    "        weight_matrix = weight_matrix - (learning_rate * (gradient)/no_of_samples)\n",
    "        \n",
    "        iteration = iteration + 1\n",
    "        \n",
    "    return cost , weight_matrix\n",
    "    "
   ]
  },
  {
   "cell_type": "code",
   "execution_count": 73,
   "id": "c66925a0",
   "metadata": {},
   "outputs": [],
   "source": [
    "cost , weights_new = gradient_descent(train_X_arr,train_y_arr,weights,0.001,75)"
   ]
  },
  {
   "cell_type": "code",
   "execution_count": null,
   "id": "30c1d18c",
   "metadata": {},
   "outputs": [],
   "source": [
    "def linear_Regression(testing_features,testing_target_var,feature_matrix, target_var, weight_matrix,learning_rate,max_iter):\n",
    "    \n",
    "    ## compute the optimum weights using gradient_descent algorithm\n",
    "    \n",
    "    cost_matrix , updated_matrix = gradient_descent(feature_matrix, target_var, weight_matrix,0.001,75)\n",
    "    \n",
    "    \n",
    "    ones_column = np.ones((testing_feature_matrix.shape[0], 1))\n",
    "    \n",
    "    X_test = np.hstack((ones_column, testing_feature_matrix))\n",
    "    \n",
    "    no_of_samples = X_test.shape[0]\n",
    "    \n",
    "    y_test = testing_target_variables\n",
    "    \n",
    "    y_pred = np.zeros((testing_feature_matrix.shape[0], 1))\n",
    "    \n",
    "    \n",
    "    ## predict y values using test data set and optimum weight values\n",
    "    \n",
    "    i = 0\n",
    "    \n",
    "    for x in X_test:\n",
    "            \n",
    "        y_pred[i] = np.dot(x,updated_weight_matrix)\n",
    "        \n",
    "        i = i + 1\n",
    "        \n",
    "        \n",
    "    return y_pred\n",
    "    \n",
    "    "
   ]
  }
 ],
 "metadata": {
  "kernelspec": {
   "display_name": "Python 3 (ipykernel)",
   "language": "python",
   "name": "python3"
  },
  "language_info": {
   "codemirror_mode": {
    "name": "ipython",
    "version": 3
   },
   "file_extension": ".py",
   "mimetype": "text/x-python",
   "name": "python",
   "nbconvert_exporter": "python",
   "pygments_lexer": "ipython3",
   "version": "3.10.9"
  }
 },
 "nbformat": 4,
 "nbformat_minor": 5
}
