{
 "cells": [
  {
   "cell_type": "code",
   "execution_count": 1,
   "id": "6b1bc0ea",
   "metadata": {},
   "outputs": [],
   "source": [
    "import pandas as pd\n",
    "import numpy as np\n",
    "import matplotlib.pyplot as plt\n",
    "import seaborn as sns\n",
    "%matplotlib inline\n",
    "import warnings\n",
    "warnings.filterwarnings(\"ignore\")"
   ]
  },
  {
   "cell_type": "markdown",
   "id": "a0c02055",
   "metadata": {},
   "source": [
    "## Data gathering and Train-Test-split"
   ]
  },
  {
   "cell_type": "code",
   "execution_count": 2,
   "id": "f736990f",
   "metadata": {},
   "outputs": [],
   "source": [
    "## Load the data set \n",
    "df = pd.read_csv(\"beam_data_1.csv\")"
   ]
  },
  {
   "cell_type": "code",
   "execution_count": 3,
   "id": "ec69b8d5",
   "metadata": {},
   "outputs": [
    {
     "data": {
      "text/html": [
       "<div>\n",
       "<style scoped>\n",
       "    .dataframe tbody tr th:only-of-type {\n",
       "        vertical-align: middle;\n",
       "    }\n",
       "\n",
       "    .dataframe tbody tr th {\n",
       "        vertical-align: top;\n",
       "    }\n",
       "\n",
       "    .dataframe thead th {\n",
       "        text-align: right;\n",
       "    }\n",
       "</style>\n",
       "<table border=\"1\" class=\"dataframe\">\n",
       "  <thead>\n",
       "    <tr style=\"text-align: right;\">\n",
       "      <th></th>\n",
       "      <th>Elastic_Modulus (GPa)</th>\n",
       "      <th>Load (kN)</th>\n",
       "      <th>Length_of_Beam (m)</th>\n",
       "      <th>X-sectional Width b (mm)</th>\n",
       "      <th>X-sectional Height h (mm)</th>\n",
       "      <th>Max Deflection (mm)</th>\n",
       "    </tr>\n",
       "  </thead>\n",
       "  <tbody>\n",
       "    <tr>\n",
       "      <th>0</th>\n",
       "      <td>151</td>\n",
       "      <td>2</td>\n",
       "      <td>11</td>\n",
       "      <td>58</td>\n",
       "      <td>95</td>\n",
       "      <td>88.62827</td>\n",
       "    </tr>\n",
       "    <tr>\n",
       "      <th>1</th>\n",
       "      <td>158</td>\n",
       "      <td>3</td>\n",
       "      <td>7</td>\n",
       "      <td>61</td>\n",
       "      <td>88</td>\n",
       "      <td>39.16701</td>\n",
       "    </tr>\n",
       "    <tr>\n",
       "      <th>2</th>\n",
       "      <td>158</td>\n",
       "      <td>4</td>\n",
       "      <td>5</td>\n",
       "      <td>36</td>\n",
       "      <td>91</td>\n",
       "      <td>29.16260</td>\n",
       "    </tr>\n",
       "    <tr>\n",
       "      <th>3</th>\n",
       "      <td>141</td>\n",
       "      <td>1</td>\n",
       "      <td>15</td>\n",
       "      <td>31</td>\n",
       "      <td>84</td>\n",
       "      <td>325.68300</td>\n",
       "    </tr>\n",
       "    <tr>\n",
       "      <th>4</th>\n",
       "      <td>177</td>\n",
       "      <td>4</td>\n",
       "      <td>13</td>\n",
       "      <td>62</td>\n",
       "      <td>106</td>\n",
       "      <td>168.09220</td>\n",
       "    </tr>\n",
       "  </tbody>\n",
       "</table>\n",
       "</div>"
      ],
      "text/plain": [
       "   Elastic_Modulus (GPa)  Load (kN)  Length_of_Beam (m)  \\\n",
       "0                    151          2                  11   \n",
       "1                    158          3                   7   \n",
       "2                    158          4                   5   \n",
       "3                    141          1                  15   \n",
       "4                    177          4                  13   \n",
       "\n",
       "   X-sectional Width b (mm)  X-sectional Height h (mm)  Max Deflection (mm)  \n",
       "0                        58                         95             88.62827  \n",
       "1                        61                         88             39.16701  \n",
       "2                        36                         91             29.16260  \n",
       "3                        31                         84            325.68300  \n",
       "4                        62                        106            168.09220  "
      ]
     },
     "execution_count": 3,
     "metadata": {},
     "output_type": "execute_result"
    }
   ],
   "source": [
    "(df.head())"
   ]
  },
  {
   "cell_type": "code",
   "execution_count": 4,
   "id": "f0cfe47f",
   "metadata": {},
   "outputs": [
    {
     "data": {
      "text/plain": [
       "(10000, 6)"
      ]
     },
     "execution_count": 4,
     "metadata": {},
     "output_type": "execute_result"
    }
   ],
   "source": [
    "df.shape"
   ]
  },
  {
   "cell_type": "code",
   "execution_count": 5,
   "id": "cb5b079a",
   "metadata": {},
   "outputs": [
    {
     "data": {
      "text/plain": [
       "tuple"
      ]
     },
     "execution_count": 5,
     "metadata": {},
     "output_type": "execute_result"
    }
   ],
   "source": [
    "type(df.shape)"
   ]
  },
  {
   "cell_type": "code",
   "execution_count": 6,
   "id": "41b56ffc",
   "metadata": {},
   "outputs": [
    {
     "name": "stdout",
     "output_type": "stream",
     "text": [
      "<class 'pandas.core.frame.DataFrame'>\n",
      "RangeIndex: 10000 entries, 0 to 9999\n",
      "Data columns (total 6 columns):\n",
      " #   Column                     Non-Null Count  Dtype  \n",
      "---  ------                     --------------  -----  \n",
      " 0   Elastic_Modulus (GPa)      10000 non-null  int64  \n",
      " 1   Load (kN)                  10000 non-null  int64  \n",
      " 2   Length_of_Beam (m)         10000 non-null  int64  \n",
      " 3   X-sectional Width b (mm)   10000 non-null  int64  \n",
      " 4   X-sectional Height h (mm)  10000 non-null  int64  \n",
      " 5   Max Deflection (mm)        10000 non-null  float64\n",
      "dtypes: float64(1), int64(5)\n",
      "memory usage: 468.9 KB\n"
     ]
    }
   ],
   "source": [
    "df.info()"
   ]
  },
  {
   "cell_type": "code",
   "execution_count": 7,
   "id": "da353ed6",
   "metadata": {},
   "outputs": [
    {
     "data": {
      "text/plain": [
       "Elastic_Modulus (GPa)        0\n",
       "Load (kN)                    0\n",
       "Length_of_Beam (m)           0\n",
       "X-sectional Width b (mm)     0\n",
       "X-sectional Height h (mm)    0\n",
       "Max Deflection (mm)          0\n",
       "dtype: int64"
      ]
     },
     "execution_count": 7,
     "metadata": {},
     "output_type": "execute_result"
    }
   ],
   "source": [
    "df.isnull().sum()"
   ]
  },
  {
   "cell_type": "code",
   "execution_count": 8,
   "id": "98b17e96",
   "metadata": {},
   "outputs": [],
   "source": [
    "## Separate the input and output variables\n",
    "\n",
    "X = df.drop(\"Max Deflection (mm)\",axis = 1)\n",
    "y = df[[\"Max Deflection (mm)\"]]"
   ]
  },
  {
   "cell_type": "code",
   "execution_count": 9,
   "id": "9f4f68d1",
   "metadata": {},
   "outputs": [
    {
     "data": {
      "text/html": [
       "<div>\n",
       "<style scoped>\n",
       "    .dataframe tbody tr th:only-of-type {\n",
       "        vertical-align: middle;\n",
       "    }\n",
       "\n",
       "    .dataframe tbody tr th {\n",
       "        vertical-align: top;\n",
       "    }\n",
       "\n",
       "    .dataframe thead th {\n",
       "        text-align: right;\n",
       "    }\n",
       "</style>\n",
       "<table border=\"1\" class=\"dataframe\">\n",
       "  <thead>\n",
       "    <tr style=\"text-align: right;\">\n",
       "      <th></th>\n",
       "      <th>Elastic_Modulus (GPa)</th>\n",
       "      <th>Load (kN)</th>\n",
       "      <th>Length_of_Beam (m)</th>\n",
       "      <th>X-sectional Width b (mm)</th>\n",
       "      <th>X-sectional Height h (mm)</th>\n",
       "    </tr>\n",
       "  </thead>\n",
       "  <tbody>\n",
       "    <tr>\n",
       "      <th>0</th>\n",
       "      <td>151</td>\n",
       "      <td>2</td>\n",
       "      <td>11</td>\n",
       "      <td>58</td>\n",
       "      <td>95</td>\n",
       "    </tr>\n",
       "    <tr>\n",
       "      <th>1</th>\n",
       "      <td>158</td>\n",
       "      <td>3</td>\n",
       "      <td>7</td>\n",
       "      <td>61</td>\n",
       "      <td>88</td>\n",
       "    </tr>\n",
       "    <tr>\n",
       "      <th>2</th>\n",
       "      <td>158</td>\n",
       "      <td>4</td>\n",
       "      <td>5</td>\n",
       "      <td>36</td>\n",
       "      <td>91</td>\n",
       "    </tr>\n",
       "    <tr>\n",
       "      <th>3</th>\n",
       "      <td>141</td>\n",
       "      <td>1</td>\n",
       "      <td>15</td>\n",
       "      <td>31</td>\n",
       "      <td>84</td>\n",
       "    </tr>\n",
       "    <tr>\n",
       "      <th>4</th>\n",
       "      <td>177</td>\n",
       "      <td>4</td>\n",
       "      <td>13</td>\n",
       "      <td>62</td>\n",
       "      <td>106</td>\n",
       "    </tr>\n",
       "  </tbody>\n",
       "</table>\n",
       "</div>"
      ],
      "text/plain": [
       "   Elastic_Modulus (GPa)  Load (kN)  Length_of_Beam (m)  \\\n",
       "0                    151          2                  11   \n",
       "1                    158          3                   7   \n",
       "2                    158          4                   5   \n",
       "3                    141          1                  15   \n",
       "4                    177          4                  13   \n",
       "\n",
       "   X-sectional Width b (mm)  X-sectional Height h (mm)  \n",
       "0                        58                         95  \n",
       "1                        61                         88  \n",
       "2                        36                         91  \n",
       "3                        31                         84  \n",
       "4                        62                        106  "
      ]
     },
     "execution_count": 9,
     "metadata": {},
     "output_type": "execute_result"
    }
   ],
   "source": [
    "X.head()"
   ]
  },
  {
   "cell_type": "code",
   "execution_count": 10,
   "id": "cb6b85b1",
   "metadata": {},
   "outputs": [
    {
     "data": {
      "text/html": [
       "<div>\n",
       "<style scoped>\n",
       "    .dataframe tbody tr th:only-of-type {\n",
       "        vertical-align: middle;\n",
       "    }\n",
       "\n",
       "    .dataframe tbody tr th {\n",
       "        vertical-align: top;\n",
       "    }\n",
       "\n",
       "    .dataframe thead th {\n",
       "        text-align: right;\n",
       "    }\n",
       "</style>\n",
       "<table border=\"1\" class=\"dataframe\">\n",
       "  <thead>\n",
       "    <tr style=\"text-align: right;\">\n",
       "      <th></th>\n",
       "      <th>Max Deflection (mm)</th>\n",
       "    </tr>\n",
       "  </thead>\n",
       "  <tbody>\n",
       "    <tr>\n",
       "      <th>0</th>\n",
       "      <td>88.62827</td>\n",
       "    </tr>\n",
       "    <tr>\n",
       "      <th>1</th>\n",
       "      <td>39.16701</td>\n",
       "    </tr>\n",
       "    <tr>\n",
       "      <th>2</th>\n",
       "      <td>29.16260</td>\n",
       "    </tr>\n",
       "    <tr>\n",
       "      <th>3</th>\n",
       "      <td>325.68300</td>\n",
       "    </tr>\n",
       "    <tr>\n",
       "      <th>4</th>\n",
       "      <td>168.09220</td>\n",
       "    </tr>\n",
       "  </tbody>\n",
       "</table>\n",
       "</div>"
      ],
      "text/plain": [
       "   Max Deflection (mm)\n",
       "0             88.62827\n",
       "1             39.16701\n",
       "2             29.16260\n",
       "3            325.68300\n",
       "4            168.09220"
      ]
     },
     "execution_count": 10,
     "metadata": {},
     "output_type": "execute_result"
    }
   ],
   "source": [
    "y.head()"
   ]
  },
  {
   "cell_type": "code",
   "execution_count": 11,
   "id": "b35aa3ee",
   "metadata": {},
   "outputs": [],
   "source": [
    "## Gathering data for Training and testing\n",
    "\n",
    "## I am splitting in the ratio 75:25\n",
    "\n",
    "## There are 10000 rows in the data set \n",
    "\n",
    "## rows for training 7500 and rows for testing -- 2500\n",
    "\n",
    "train_X = X.iloc[0:7500,:] \n",
    "test_X = X.iloc[7500:10000,:]\n",
    "\n",
    "train_y = y.iloc[0:7500,:]\n",
    "test_y = y.iloc[7500:10000,:]"
   ]
  },
  {
   "cell_type": "code",
   "execution_count": 12,
   "id": "e5663445",
   "metadata": {},
   "outputs": [
    {
     "data": {
      "text/plain": [
       "(7500, 5)"
      ]
     },
     "execution_count": 12,
     "metadata": {},
     "output_type": "execute_result"
    }
   ],
   "source": [
    "train_X.shape"
   ]
  },
  {
   "cell_type": "code",
   "execution_count": 13,
   "id": "f2266440",
   "metadata": {},
   "outputs": [
    {
     "data": {
      "text/plain": [
       "(7500, 1)"
      ]
     },
     "execution_count": 13,
     "metadata": {},
     "output_type": "execute_result"
    }
   ],
   "source": [
    "train_y.shape"
   ]
  },
  {
   "cell_type": "code",
   "execution_count": 14,
   "id": "f1b5927b",
   "metadata": {},
   "outputs": [
    {
     "data": {
      "text/plain": [
       "(2500, 5)"
      ]
     },
     "execution_count": 14,
     "metadata": {},
     "output_type": "execute_result"
    }
   ],
   "source": [
    "test_X.shape"
   ]
  },
  {
   "cell_type": "code",
   "execution_count": 15,
   "id": "9c7da444",
   "metadata": {},
   "outputs": [
    {
     "data": {
      "text/plain": [
       "(2500, 1)"
      ]
     },
     "execution_count": 15,
     "metadata": {},
     "output_type": "execute_result"
    }
   ],
   "source": [
    "test_y.shape"
   ]
  },
  {
   "cell_type": "code",
   "execution_count": 16,
   "id": "f3353b6c",
   "metadata": {},
   "outputs": [],
   "source": [
    "## Converting the dataframe to numpy Array\n",
    "\n",
    "train_X_arr = train_X.to_numpy()\n",
    "train_y_arr = train_y.to_numpy()\n",
    "test_X_arr = test_X.to_numpy()\n",
    "test_y_arr = test_y.to_numpy()"
   ]
  },
  {
   "cell_type": "code",
   "execution_count": 17,
   "id": "1b0a34e3",
   "metadata": {},
   "outputs": [
    {
     "name": "stdout",
     "output_type": "stream",
     "text": [
      "<class 'pandas.core.frame.DataFrame'> <class 'pandas.core.frame.DataFrame'>\n"
     ]
    }
   ],
   "source": [
    "print(type(X),type(y))"
   ]
  },
  {
   "cell_type": "code",
   "execution_count": 18,
   "id": "7fb0a011",
   "metadata": {},
   "outputs": [
    {
     "data": {
      "text/plain": [
       "(7500, 5)"
      ]
     },
     "execution_count": 18,
     "metadata": {},
     "output_type": "execute_result"
    }
   ],
   "source": [
    "train_X_arr.shape"
   ]
  },
  {
   "cell_type": "code",
   "execution_count": 19,
   "id": "b7b6872f",
   "metadata": {},
   "outputs": [
    {
     "data": {
      "text/plain": [
       "(7500, 1)"
      ]
     },
     "execution_count": 19,
     "metadata": {},
     "output_type": "execute_result"
    }
   ],
   "source": [
    "train_y_arr.shape"
   ]
  },
  {
   "cell_type": "code",
   "execution_count": 20,
   "id": "39034c54",
   "metadata": {},
   "outputs": [
    {
     "data": {
      "text/plain": [
       "(2500, 5)"
      ]
     },
     "execution_count": 20,
     "metadata": {},
     "output_type": "execute_result"
    }
   ],
   "source": [
    "test_X_arr.shape"
   ]
  },
  {
   "cell_type": "code",
   "execution_count": 21,
   "id": "1bca3f99",
   "metadata": {},
   "outputs": [
    {
     "data": {
      "text/plain": [
       "(2500, 1)"
      ]
     },
     "execution_count": 21,
     "metadata": {},
     "output_type": "execute_result"
    }
   ],
   "source": [
    "test_y_arr.shape"
   ]
  },
  {
   "cell_type": "code",
   "execution_count": null,
   "id": "f1cb8ec1",
   "metadata": {},
   "outputs": [],
   "source": []
  },
  {
   "cell_type": "code",
   "execution_count": 22,
   "id": "98d91894",
   "metadata": {},
   "outputs": [
    {
     "data": {
      "text/html": [
       "<div>\n",
       "<style scoped>\n",
       "    .dataframe tbody tr th:only-of-type {\n",
       "        vertical-align: middle;\n",
       "    }\n",
       "\n",
       "    .dataframe tbody tr th {\n",
       "        vertical-align: top;\n",
       "    }\n",
       "\n",
       "    .dataframe thead th {\n",
       "        text-align: right;\n",
       "    }\n",
       "</style>\n",
       "<table border=\"1\" class=\"dataframe\">\n",
       "  <thead>\n",
       "    <tr style=\"text-align: right;\">\n",
       "      <th></th>\n",
       "      <th>TV</th>\n",
       "      <th>radio</th>\n",
       "      <th>newspaper</th>\n",
       "      <th>sales</th>\n",
       "    </tr>\n",
       "  </thead>\n",
       "  <tbody>\n",
       "    <tr>\n",
       "      <th>0</th>\n",
       "      <td>230.1</td>\n",
       "      <td>37.8</td>\n",
       "      <td>69.2</td>\n",
       "      <td>22.1</td>\n",
       "    </tr>\n",
       "    <tr>\n",
       "      <th>1</th>\n",
       "      <td>44.5</td>\n",
       "      <td>39.3</td>\n",
       "      <td>45.1</td>\n",
       "      <td>10.4</td>\n",
       "    </tr>\n",
       "    <tr>\n",
       "      <th>2</th>\n",
       "      <td>17.2</td>\n",
       "      <td>45.9</td>\n",
       "      <td>69.3</td>\n",
       "      <td>9.3</td>\n",
       "    </tr>\n",
       "    <tr>\n",
       "      <th>3</th>\n",
       "      <td>151.5</td>\n",
       "      <td>41.3</td>\n",
       "      <td>58.5</td>\n",
       "      <td>18.5</td>\n",
       "    </tr>\n",
       "    <tr>\n",
       "      <th>4</th>\n",
       "      <td>180.8</td>\n",
       "      <td>10.8</td>\n",
       "      <td>58.4</td>\n",
       "      <td>12.9</td>\n",
       "    </tr>\n",
       "  </tbody>\n",
       "</table>\n",
       "</div>"
      ],
      "text/plain": [
       "      TV  radio  newspaper  sales\n",
       "0  230.1   37.8       69.2   22.1\n",
       "1   44.5   39.3       45.1   10.4\n",
       "2   17.2   45.9       69.3    9.3\n",
       "3  151.5   41.3       58.5   18.5\n",
       "4  180.8   10.8       58.4   12.9"
      ]
     },
     "execution_count": 22,
     "metadata": {},
     "output_type": "execute_result"
    }
   ],
   "source": [
    "df2 = pd.read_csv(\"Advertising.csv\")\n",
    "df2.head()"
   ]
  },
  {
   "cell_type": "code",
   "execution_count": 23,
   "id": "4f6eabc3",
   "metadata": {},
   "outputs": [],
   "source": [
    "## Function for loading the data and train test split\n",
    "\n",
    "def data_preprocessing(csv_file,train_size,test_size,The_target_variable):\n",
    "    \n",
    "    # load the data using pandas\n",
    "    \n",
    "    df = pd.read_csv(csv_file)\n",
    "    \n",
    "    print(f\"The shape of your dataset is : {df.shape}\")\n",
    "    \n",
    "    total_no_of_rows = df.shape[0]\n",
    "    total_no_of_columns = df.shape[1]\n",
    "    \n",
    "    # The input features(dependent features) & The target variable(independent feature)\n",
    "    \n",
    "    X = df.drop(The_target_variable,axis = 1)\n",
    "    y = df[[The_target_variable]]\n",
    "    \n",
    "    # Train_test_split\n",
    "    \n",
    "    no_of_rows_for_training = total_no_of_rows*(train_size/100)\n",
    "    no_of_rows_for_testing = total_no_of_rows*(test_size/100)\n",
    "    \n",
    "    train_X = X.iloc[0:int(no_of_rows_for_training),:] \n",
    "    test_X = X.iloc[int(no_of_rows_for_training):total_no_of_rows,:]\n",
    " \n",
    "    train_y = y.iloc[1:int(no_of_rows_for_training),:]\n",
    "    test_y = y.iloc[int(no_of_rows_for_training):total_no_of_rows,:]\n",
    "    \n",
    "    print(f\"The shape of your traing data set is: {train_X.shape}\")\n",
    "    print(f\"The shape of your testing data set is : {test_X.shape}\")\n",
    "    \n",
    "    ## Convert the pandas dataframe to to Numpy array to do model building\n",
    "    \n",
    "    train_X_arr = train_X.to_numpy()\n",
    "    train_y_arr = train_y.to_numpy()\n",
    "    test_X_arr = test_X.to_numpy()\n",
    "    test_y_arr = test_y.to_numpy()\n",
    "    \n",
    "    print(\"your dataframe has been splitted to a traing and testing dataset as well as it has been converted to numpy array for furthe preprocessing\")\n",
    "    \n",
    "    return train_X_arr, train_y_arr, test_X_arr, test_y_arr"
   ]
  },
  {
   "cell_type": "code",
   "execution_count": 24,
   "id": "15c94eea",
   "metadata": {},
   "outputs": [
    {
     "name": "stdout",
     "output_type": "stream",
     "text": [
      "The shape of your dataset is : (200, 4)\n",
      "The shape of your traing data set is: (150, 3)\n",
      "The shape of your testing data set is : (50, 3)\n",
      "your dataframe has been splitted to a traing and testing dataset as well as it has been converted to numpy array for furthe preprocessing\n"
     ]
    }
   ],
   "source": [
    "train_X_arr_1, train_y_arr_1, test_X_arr_1, test_y_arr_1 = data_preprocessing(\"Advertising.csv\",75,25,\"sales\")"
   ]
  },
  {
   "cell_type": "markdown",
   "id": "80e55fef",
   "metadata": {},
   "source": [
    "## Model Building"
   ]
  },
  {
   "cell_type": "code",
   "execution_count": 25,
   "id": "fd32caa0",
   "metadata": {},
   "outputs": [],
   "source": [
    "## Using the basis function --- phi(x) = x (Linear basis function)"
   ]
  },
  {
   "cell_type": "code",
   "execution_count": 26,
   "id": "e6bcd189",
   "metadata": {},
   "outputs": [],
   "source": [
    "# def linear_regression_1(X_given,y,learning_rate,eps):\n",
    "    \n",
    "#     X = np.insert(X_given, 0, 1, axis=1)\n",
    "    \n",
    "#     # calculate shape of your feature matrix(X)\n",
    "    \n",
    "#     feature_matrix_shape = X.shape\n",
    "#     no_of_rows_in_feature_matrix = feature_matrix_shape[0]\n",
    "#     no_of_columns_in_feature_matrix = feature_matrix_shape[1]\n",
    "    \n",
    "#     ## Intialise a weight matrix with a shape (no_of_rows_in_feature_matrix by 1)\n",
    "    \n",
    "#     curr_weights = np.ones((no_of_columns_in_feature_matrix,1),dtype = float)\n",
    "    \n",
    "#     error = 100.0\n",
    "    \n",
    "#     while np.any(error>eps):\n",
    "        \n",
    "#         for i in range (1):\n",
    "            \n",
    "#             operation_matrix_scalar = np.dot((np.transpose(curr_weights)),X[i,:]) - y[i,:]\n",
    "#             X[i,:] = X[i,:] + operation_matrix_scalar*X[i,:]\n",
    "        \n",
    "#         next_weights = curr_weights - learning_rate*X[i,:]\n",
    "        \n",
    "#         er = next_weights - curr_weights\n",
    "        \n",
    "#         error = np.abs(er[0,:])\n",
    "        \n",
    "        \n",
    "        \n",
    "#     print(error)\n",
    "#     return curr_weights\n",
    "        \n",
    "    \n",
    "    \n",
    "    \n"
   ]
  },
  {
   "cell_type": "code",
   "execution_count": 27,
   "id": "be78824c",
   "metadata": {},
   "outputs": [],
   "source": [
    "def computing_cost_fn(feature_matrix, target_var, weight_matrix):\n",
    "    \n",
    "    ones_column = np.ones((feature_matrix.shape[0], 1))\n",
    "    X = np.hstack((ones_column, feature_matrix))\n",
    "    y = target_var\n",
    "\n",
    "    no_of_samples = X.shape[0]\n",
    "    \n",
    "    summation = 0.0;\n",
    "    \n",
    "    \n",
    "    for x,y in zip(X, y):\n",
    "        y_hat = np.dot(x,weight_matrix)\n",
    "        summation += (y_hat - y) ** 2\n",
    "        \n",
    "    final_cost = summation / (no_of_samples * 2.0)\n",
    "\n",
    "    return final_cost[0]"
   ]
  },
  {
   "cell_type": "code",
   "execution_count": 28,
   "id": "5e6238c5",
   "metadata": {},
   "outputs": [],
   "source": [
    "# weights = np.zeros((train_X_arr.shape[1] + 1,train_y_arr.shape[1]))\n",
    "weights = np.ones(train_X_arr.shape[1] + 1,).reshape(1,-1).T * 0.6"
   ]
  },
  {
   "cell_type": "code",
   "execution_count": 29,
   "id": "9e3bfc5c",
   "metadata": {},
   "outputs": [
    {
     "data": {
      "text/plain": [
       "array([[0.6],\n",
       "       [0.6],\n",
       "       [0.6],\n",
       "       [0.6],\n",
       "       [0.6],\n",
       "       [0.6]])"
      ]
     },
     "execution_count": 29,
     "metadata": {},
     "output_type": "execute_result"
    }
   ],
   "source": [
    "weights"
   ]
  },
  {
   "cell_type": "code",
   "execution_count": 30,
   "id": "ee3b7c31",
   "metadata": {},
   "outputs": [
    {
     "data": {
      "text/plain": [
       "(6, 1)"
      ]
     },
     "execution_count": 30,
     "metadata": {},
     "output_type": "execute_result"
    }
   ],
   "source": [
    "weights.shape"
   ]
  },
  {
   "cell_type": "code",
   "execution_count": 31,
   "id": "1d19aaa0",
   "metadata": {},
   "outputs": [
    {
     "data": {
      "text/plain": [
       "88.62827"
      ]
     },
     "execution_count": 31,
     "metadata": {},
     "output_type": "execute_result"
    }
   ],
   "source": [
    "train_y_arr[0][0]"
   ]
  },
  {
   "cell_type": "code",
   "execution_count": 32,
   "id": "37d3ce7b",
   "metadata": {},
   "outputs": [
    {
     "data": {
      "text/plain": [
       "23137.87005505771"
      ]
     },
     "execution_count": 32,
     "metadata": {},
     "output_type": "execute_result"
    }
   ],
   "source": [
    "computing_cost_fn(train_X_arr,train_y_arr,weights)"
   ]
  },
  {
   "cell_type": "code",
   "execution_count": 33,
   "id": "a747914e",
   "metadata": {},
   "outputs": [
    {
     "data": {
      "text/plain": [
       "23137.87005505771"
      ]
     },
     "execution_count": 33,
     "metadata": {},
     "output_type": "execute_result"
    }
   ],
   "source": [
    "computing_cost_fn(train_X_arr,train_y_arr,weights)"
   ]
  },
  {
   "cell_type": "code",
   "execution_count": 34,
   "id": "d3c81302",
   "metadata": {},
   "outputs": [
    {
     "data": {
      "text/plain": [
       "38285.52409818143"
      ]
     },
     "execution_count": 34,
     "metadata": {},
     "output_type": "execute_result"
    }
   ],
   "source": [
    "38285.52409818143"
   ]
  },
  {
   "cell_type": "code",
   "execution_count": 35,
   "id": "71225e8f",
   "metadata": {},
   "outputs": [],
   "source": [
    "def gradient_descent(feature_matrix, target_var, weight_matrix,learning_rate,max_iter):\n",
    "    \n",
    "    iteration = 0\n",
    "    \n",
    "    cost = np.zeros(((max_iter),1))\n",
    "    \n",
    "    ones_column = np.ones((feature_matrix.shape[0], 1))\n",
    "    \n",
    "    X = np.hstack((ones_column, feature_matrix))\n",
    "    \n",
    "    no_of_samples = X.shape[0]\n",
    "    \n",
    "    \n",
    "    while iteration < max_iter:\n",
    "        \n",
    "        gradient = np.zeros((X.shape[1],)).reshape(1,-1).T\n",
    "        \n",
    "        cost[iteration] = computing_cost_fn(feature_matrix, target_var, weight_matrix)\n",
    "        \n",
    "        for x,y in zip(X, target_var):\n",
    "            \n",
    "            y_hat = np.dot(x,weight_matrix)\n",
    "            \n",
    "            gradient = gradient + ((y_hat[0] - y[0]) * x.reshape(1,-1).T)  # gradient calculation\n",
    "            \n",
    "        \n",
    "               \n",
    "        weight_matrix -= (learning_rate * (gradient)/no_of_samples) # updation of weight matrix\n",
    "        \n",
    "#         print(\"Iteration:\", iteration, \"Cost:\", cost[iteration], \"Weights:\", weight_matrix)\n",
    "        \n",
    "        if iteration > 0 and np.abs(cost[iteration - 1] - cost[iteration]) < 1e-4:\n",
    "            \n",
    "            print(\"cost convergence\")\n",
    "            \n",
    "            break\n",
    "        \n",
    "        iteration = iteration + 1\n",
    "        \n",
    "        \n",
    "    return cost , weight_matrix \n",
    "    "
   ]
  },
  {
   "cell_type": "code",
   "execution_count": 36,
   "id": "755c32c3",
   "metadata": {},
   "outputs": [],
   "source": [
    "# def gradient_descent_1(feature_matrix, target_var, weight_matrix,learning_rate,max_iter):\n",
    "    \n",
    "#     iteration = 0\n",
    "    \n",
    "#     cost = np.zeros(((max_iter),1))\n",
    "    \n",
    "#     ones_column = np.ones((feature_matrix.shape[0], 1))\n",
    "    \n",
    "#     X = np.hstack((ones_column, feature_matrix))\n",
    "    \n",
    "#     no_of_samples = X.shape[0]\n",
    "    \n",
    "    \n",
    "#     while iteration < max_iter:\n",
    "        \n",
    "#         gradient = np.zeros((X.shape[1],))\n",
    "        \n",
    "#         cost[iteration] = computing_cost_fn(feature_matrix, target_var, weight_matrix)\n",
    "        \n",
    "#         for x,y in zip(X, target_var):\n",
    "            \n",
    "#             y_hat = np.dot(x,weight_matrix)\n",
    "            \n",
    "#             gradient = gradient + ((y_hat - y) * x)  # gradient calculation\n",
    "               \n",
    "#             weight_matrix = weight_matrix - (learning_rate * (gradient/no_of_samples)) # updation of weight matrix\n",
    "        \n",
    "#         iteration = iteration + 1\n",
    "        \n",
    "        \n",
    "#     return cost , weight_matrix "
   ]
  },
  {
   "cell_type": "code",
   "execution_count": 37,
   "id": "0599a29f",
   "metadata": {},
   "outputs": [],
   "source": [
    "# gradient_descent(train_X_arr,train_y_arr,weights,0.00001,100)"
   ]
  },
  {
   "cell_type": "code",
   "execution_count": 38,
   "id": "d0bab794",
   "metadata": {
    "scrolled": false
   },
   "outputs": [],
   "source": [
    "# gradient_descent(train_X_arr,train_y_arr,weights,0.00001,50000)"
   ]
  },
  {
   "cell_type": "code",
   "execution_count": 39,
   "id": "83eb9cd6",
   "metadata": {},
   "outputs": [
    {
     "data": {
      "text/plain": [
       "-0.06932043000051635"
      ]
     },
     "execution_count": 39,
     "metadata": {},
     "output_type": "execute_result"
    }
   ],
   "source": [
    "# shape\n",
    "8283.90587649 - 8283.97519692"
   ]
  },
  {
   "cell_type": "code",
   "execution_count": 40,
   "id": "56331679",
   "metadata": {},
   "outputs": [],
   "source": [
    "def linear_Regression(testing_features,testing_target_var,feature_matrix, target_var, weight_matrix,learning_rate,max_iter):\n",
    "    \n",
    "    ## compute the optimum weights using gradient_descent algorithm\n",
    "    \n",
    "    cost_matrix , updated_weight_matrix = gradient_descent(feature_matrix, target_var, weight_matrix,learning_rate,max_iter)\n",
    "    \n",
    "    \n",
    "    ones_column = np.ones((testing_features.shape[0], 1))\n",
    "    \n",
    "    X_test = np.hstack((ones_column, testing_features))\n",
    "    \n",
    "    no_of_samples = X_test.shape[0]\n",
    "    \n",
    "    y_test = testing_target_var\n",
    "    \n",
    "    \n",
    "    i = 0\n",
    "    \n",
    "    y_pred = np.dot(X_test,updated_weight_matrix)\n",
    "        \n",
    "    return y_pred\n",
    "    \n",
    "    "
   ]
  },
  {
   "cell_type": "code",
   "execution_count": 41,
   "id": "cd8279fa",
   "metadata": {},
   "outputs": [],
   "source": [
    "y_pred = linear_Regression(test_X_arr,test_y_arr,train_X_arr,train_y_arr, weights,0.00001,50000)"
   ]
  },
  {
   "cell_type": "code",
   "execution_count": 42,
   "id": "929ce0f0",
   "metadata": {},
   "outputs": [
    {
     "data": {
      "text/plain": [
       "array([[246.06297645],\n",
       "       [230.44701615],\n",
       "       [268.18958792],\n",
       "       ...,\n",
       "       [238.0806344 ],\n",
       "       [257.05300785],\n",
       "       [259.09440939]])"
      ]
     },
     "execution_count": 42,
     "metadata": {},
     "output_type": "execute_result"
    }
   ],
   "source": [
    "y_pred"
   ]
  },
  {
   "cell_type": "code",
   "execution_count": 43,
   "id": "7c55e842",
   "metadata": {},
   "outputs": [
    {
     "data": {
      "text/plain": [
       "array([[ 73.27115],\n",
       "       [176.3991 ],\n",
       "       [180.02786],\n",
       "       ...,\n",
       "       [127.56236],\n",
       "       [169.53879],\n",
       "       [218.56023]])"
      ]
     },
     "execution_count": 43,
     "metadata": {},
     "output_type": "execute_result"
    }
   ],
   "source": [
    "test_y_arr"
   ]
  },
  {
   "cell_type": "code",
   "execution_count": 44,
   "id": "4b7985e4",
   "metadata": {},
   "outputs": [],
   "source": [
    "# y_pred"
   ]
  },
  {
   "cell_type": "code",
   "execution_count": null,
   "id": "dbad70af",
   "metadata": {},
   "outputs": [],
   "source": []
  },
  {
   "cell_type": "code",
   "execution_count": null,
   "id": "73dd3614",
   "metadata": {},
   "outputs": [],
   "source": []
  },
  {
   "cell_type": "code",
   "execution_count": null,
   "id": "b4d58e0c",
   "metadata": {},
   "outputs": [],
   "source": []
  },
  {
   "cell_type": "code",
   "execution_count": null,
   "id": "05480eb5",
   "metadata": {},
   "outputs": [],
   "source": []
  }
 ],
 "metadata": {
  "kernelspec": {
   "display_name": "Python 3 (ipykernel)",
   "language": "python",
   "name": "python3"
  },
  "language_info": {
   "codemirror_mode": {
    "name": "ipython",
    "version": 3
   },
   "file_extension": ".py",
   "mimetype": "text/x-python",
   "name": "python",
   "nbconvert_exporter": "python",
   "pygments_lexer": "ipython3",
   "version": "3.10.9"
  }
 },
 "nbformat": 4,
 "nbformat_minor": 5
}
