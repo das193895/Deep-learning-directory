{
 "cells": [
  {
   "cell_type": "markdown",
   "id": "b3963946-c8b4-4875-8f3e-f81eb2681644",
   "metadata": {
    "tags": []
   },
   "source": [
    "# Lab assignment - 2 (Feed Forward Neural Networks)"
   ]
  },
  {
   "cell_type": "code",
   "execution_count": 1,
   "id": "8373e90e-7a00-44e3-9e39-3636f0d645e4",
   "metadata": {
    "tags": []
   },
   "outputs": [],
   "source": [
    "## Import all the required libraries\n",
    "\n",
    "import numpy as np\n",
    "import matplotlib.pyplot as plt\n",
    "%matplotlib inline\n",
    "import torch\n",
    "from torch import nn\n",
    "from torch.utils.data import random_split,DataLoader,Subset\n",
    "import torch.optim as optim\n",
    "from torchvision import datasets\n",
    "from torchvision import transforms\n",
    "from torchvision.transforms import ToTensor,Normalize\n",
    "import warnings\n",
    "warnings.filterwarnings(\"ignore\")"
   ]
  },
  {
   "cell_type": "markdown",
   "id": "bb3f1e4b-36da-44b3-a032-bc6f34625079",
   "metadata": {},
   "source": [
    "## Data Gathering"
   ]
  },
  {
   "cell_type": "code",
   "execution_count": 6,
   "id": "1cd3129f-9c19-4f3a-89a3-c6952db24074",
   "metadata": {
    "tags": []
   },
   "outputs": [],
   "source": [
    "## loading the MNIST dataset from torchvision\n",
    "mnist_dataset = datasets.MNIST(\n",
    "    root='./data',\n",
    "    train=True, \n",
    "    download=True,\n",
    "    transform=ToTensor()\n",
    ")\n",
    "\n",
    "total_samples = len(mnist_dataset)\n",
    "\n",
    "indices = list(range(total_samples))\n",
    "\n",
    "## create training,validation and testing samples of required size\n",
    "train_indices = indices[:5000]\n",
    "val_indices = indices[5000:6000]\n",
    "test_indices = indices[6000:8000]\n",
    "\n",
    "train_dataset = Subset(mnist_dataset, train_indices)\n",
    "val_dataset = Subset(mnist_dataset, val_indices)\n",
    "test_dataset = Subset(mnist_dataset, test_indices)\n",
    "\n",
    "# batch_size = 1\n",
    "\n",
    "# Finally load the datasets using DataLoader\n",
    "train_dataloader = DataLoader(train_dataset, batch_size = len(train_dataset), shuffle=True)\n",
    "val_dataloader = DataLoader(val_dataset, batch_size = len(val_dataset), shuffle=False)\n",
    "test_dataloader = DataLoader(test_dataset, batch_size = len(test_dataset), shuffle=False)"
   ]
  },
  {
   "cell_type": "code",
   "execution_count": 3,
   "id": "800543db-3e48-4bd5-b786-8195f70097bb",
   "metadata": {
    "tags": []
   },
   "outputs": [],
   "source": [
    "## Loading the normalized MNIST dataset\n",
    "\n",
    "max_value = 1\n",
    "min_value = 0\n",
    "\n",
    "# Apply Min-Max Scaling to transform data\n",
    "transform = transforms.Compose([\n",
    "    transforms.ToTensor(),\n",
    "    transforms.Normalize(min_value, max_value)  # Min-Max Scaling\n",
    "])\n",
    "\n",
    "## Now load the dataset with Min-Max transformation\n",
    "mnist_dataset_normalized = datasets.MNIST(\n",
    "    root='./data',\n",
    "    train=True, \n",
    "    download=True,\n",
    "    transform=transform\n",
    ")\n",
    "\n",
    "# Subsets for train, validation, and test sets\n",
    "total_samples = len(mnist_dataset_normalized)\n",
    "indices = list(range(total_samples))\n",
    "train_indices = indices[:5000]\n",
    "val_indices = indices[5000:6000]\n",
    "test_indices = indices[6000:8000]\n",
    "\n",
    "train_dataset_normalized = Subset(mnist_dataset_normalized, train_indices)\n",
    "val_dataset_normalized = Subset(mnist_dataset_normalized, val_indices)\n",
    "test_dataset_normalized = Subset(mnist_dataset_normalized, test_indices)\n",
    "\n",
    "# DataLoaders\n",
    "batch_size = len(train_dataset_normalized)\n",
    "train_dataloader_normalized = DataLoader(train_dataset_normalized, \n",
    "                                         batch_size=batch_size, \n",
    "                                         shuffle=True)\n",
    "val_dataloader_normalized = DataLoader(val_dataset_normalized, \n",
    "                                       batch_size=len(val_dataset_normalized), \n",
    "                                       shuffle=False)\n",
    "test_dataloader_normalized = DataLoader(test_dataset_normalized, \n",
    "                                        batch_size=len(test_dataset_normalized), \n",
    "                                        shuffle=False)"
   ]
  },
  {
   "cell_type": "markdown",
   "id": "2f8c3896-ca0e-4e34-bc3e-95eda963432a",
   "metadata": {
    "tags": []
   },
   "source": [
    "## Forming Network - A"
   ]
  },
  {
   "cell_type": "code",
   "execution_count": 4,
   "id": "bfff416b-f770-4046-84ba-eb34b3e04dba",
   "metadata": {
    "tags": []
   },
   "outputs": [],
   "source": [
    "class Artificial_NN_A(nn.Module):\n",
    "    \n",
    "    def __init__(self):\n",
    "        super(Artificial_NN_A, self).__init__()\n",
    "        self.flatten = nn.Flatten()\n",
    "        self.hidden_layers = nn.Sequential(\n",
    "            nn.Linear(784,50),\n",
    "            nn.ReLU(),\n",
    "            nn.Linear(50,50),\n",
    "            nn.ReLU(),\n",
    "            nn.Linear(50,10)  \n",
    "        )\n",
    "        self.softmax = nn.Softmax(dim = 1)\n",
    "        \n",
    "    def forward(self, input_d):\n",
    "        input_outcome = self.flatten(input_d)\n",
    "        hidden_outcome = self.hidden_layers(input_outcome)\n",
    "        final_predictions = self.softmax(hidden_outcome)\n",
    "        return final_predictions\n",
    "                   "
   ]
  },
  {
   "cell_type": "markdown",
   "id": "6cdb3342-a0c5-46d9-92aa-a35059d4e166",
   "metadata": {},
   "source": [
    "## Forming Netowrk - B "
   ]
  },
  {
   "cell_type": "code",
   "execution_count": 5,
   "id": "1c813c0b-ba07-474a-86be-04072dc76c84",
   "metadata": {
    "tags": []
   },
   "outputs": [],
   "source": [
    "class Artificial_NN_B(nn.Module):\n",
    "    \n",
    "    def __init__(self):\n",
    "        super(Artificial_NN_B, self).__init__()\n",
    "        self.flatten = nn.Flatten()\n",
    "        self.hidden_layers = nn.Sequential(\n",
    "            nn.Linear(784,150),\n",
    "            nn.ReLU(),\n",
    "            nn.Linear(150,150),\n",
    "            nn.ReLU(),\n",
    "            nn.Linear(150,10)  \n",
    "        )\n",
    "        self.softmax = nn.Softmax(dim = 1)\n",
    "        \n",
    "    def forward(self, input_d):\n",
    "        input_outcome = self.flatten(input_d)\n",
    "        hidden_outcome = self.hidden_layers(input_outcome)\n",
    "        final_predictions = self.softmax(hidden_outcome)\n",
    "        return final_predictions"
   ]
  },
  {
   "cell_type": "markdown",
   "id": "28b1cd59-e478-4285-9a60-81a9527a01b3",
   "metadata": {},
   "source": [
    "## Forming Network A with Normalized layers"
   ]
  },
  {
   "cell_type": "code",
   "execution_count": 6,
   "id": "b196d64b-e40b-4e12-ae2f-5f681708aed8",
   "metadata": {
    "tags": []
   },
   "outputs": [],
   "source": [
    "class Artificial_NN_A_with_normalized_layer(nn.Module):\n",
    "    \n",
    "    def __init__(self):\n",
    "        super(Artificial_NN_A_with_normalized_layer, self).__init__()\n",
    "        self.flatten = nn.Flatten()\n",
    "        self.hidden_layers = nn.Sequential(\n",
    "            nn.Linear(784,50),\n",
    "            nn.BatchNorm1d(50),  # adding normalization layer\n",
    "            nn.ReLU(),\n",
    "            nn.Linear(50,50),\n",
    "            nn.BatchNorm1d(50),  # adding normalization layer\n",
    "            nn.ReLU(),\n",
    "            nn.Linear(50,10)  \n",
    "        )\n",
    "        self.softmax = nn.Softmax(dim = 1)\n",
    "        \n",
    "    def forward(self, input_d):\n",
    "        input_outcome = self.flatten(input_d)\n",
    "        hidden_outcome = self.hidden_layers(input_outcome)\n",
    "        final_predictions = self.softmax(hidden_outcome)\n",
    "        return final_predictions"
   ]
  },
  {
   "cell_type": "markdown",
   "id": "430afda9-63f5-4b03-a9cf-1ff8f41ac22d",
   "metadata": {},
   "source": [
    "## Forming Network A with dropout layer"
   ]
  },
  {
   "cell_type": "code",
   "execution_count": 7,
   "id": "d5ffca67-b24b-46ef-8ae9-a53f7eb1ab01",
   "metadata": {
    "tags": []
   },
   "outputs": [],
   "source": [
    "class Artificial_NN_A_with_dropout_layer(nn.Module):\n",
    "    \n",
    "    def __init__(self):\n",
    "        super(Artificial_NN_A_with_dropout_layer, self).__init__()\n",
    "        self.flatten = nn.Flatten()\n",
    "        self.hidden_layers = nn.Sequential(\n",
    "            nn.Linear(784,50),\n",
    "            nn.ReLU(),\n",
    "            nn.Dropout(0.5),  # adding a dropout layer\n",
    "            nn.Linear(50,50),\n",
    "            nn.ReLU(),\n",
    "            nn.Linear(50,10)  \n",
    "        )\n",
    "        self.softmax = nn.Softmax(dim = 1)\n",
    "        \n",
    "    def forward(self, input_d):\n",
    "        input_outcome = self.flatten(input_d)\n",
    "        hidden_outcome = self.hidden_layers(input_outcome)\n",
    "        final_predictions = self.softmax(hidden_outcome)\n",
    "        return final_predictions"
   ]
  },
  {
   "cell_type": "markdown",
   "id": "207e18ff-b6af-4a4f-a42c-ceeedff3066c",
   "metadata": {},
   "source": [
    "## Training of the Networks"
   ]
  },
  {
   "cell_type": "code",
   "execution_count": 8,
   "id": "6321f67b-039d-40a3-8cdc-a23343e56204",
   "metadata": {
    "tags": []
   },
   "outputs": [],
   "source": [
    "def Train_Network(num_of_epochs, learning_rate, training_set, choose_model):\n",
    "    \n",
    "    ## making cases for choosing the required model\n",
    "    if choose_model == 0: \n",
    "        ANN = Artificial_NN_A()  \n",
    "    elif choose_model == 1: \n",
    "        ANN = Artificial_NN_B()\n",
    "    elif choose_model == 2:\n",
    "        ANN = Artificial_NN_A_with_normalized_layer()\n",
    "    elif choose_model == 3:\n",
    "        ANN = Artificial_NN_A_with_dropout_layer()\n",
    "\n",
    "    # choosing the cross entropy loss\n",
    "    loss_fn = nn.CrossEntropyLoss()\n",
    "\n",
    "    # choose ADAM optimizer and learning rate\n",
    "    optimizer = optim.Adam(ANN.parameters(), lr=learning_rate)\n",
    "    \n",
    "    losses = []  # List to store losses for plotting\n",
    "    \n",
    "    for epoch in range(num_of_epochs+1):\n",
    "        \n",
    "        for inputs, labels in training_set:\n",
    "            \n",
    "            optimizer.zero_grad()\n",
    "            \n",
    "            predictions = ANN(inputs)   # make predictions\n",
    "            \n",
    "            calc_loss = loss_fn(predictions, labels)  # calculate loss\n",
    "            \n",
    "            # Backprop\n",
    "            calc_loss.backward()\n",
    "            \n",
    "            # update all the parameters\n",
    "            optimizer.step()\n",
    "            \n",
    "            if epoch % 50 == 0:    \n",
    "                print(f'Epoch {epoch}, Loss: {calc_loss.item()}')\n",
    "                \n",
    "            losses.append(calc_loss.item())  # Append loss for plotting\n",
    "            \n",
    "            if epoch == 500:\n",
    "                print(f'Final_Loss: {calc_loss.item()}')\n",
    "                    \n",
    "    # Plotting loss versus epoch\n",
    "    plt.plot(range(len(losses)), losses)\n",
    "    plt.xlabel('Epoch')\n",
    "    plt.ylabel('Cross Entropy Loss')\n",
    "    plt.title('Cross Entropy Loss vs Epoch')\n",
    "    plt.show()\n",
    "    \n",
    "    return ANN  # return the model\n",
    "                               "
   ]
  },
  {
   "cell_type": "markdown",
   "id": "262a4b06-37d4-47bd-b9f4-e11773986d7d",
   "metadata": {
    "tags": []
   },
   "source": [
    "## Testing with the the trained Networks"
   ]
  },
  {
   "cell_type": "code",
   "execution_count": 9,
   "id": "f2465314-14f3-4d6a-aac1-8ac2b4f34922",
   "metadata": {
    "tags": []
   },
   "outputs": [],
   "source": [
    "def Test_Network(test_set, model):\n",
    "    correct = 0\n",
    "    total = 0\n",
    "    with torch.no_grad():\n",
    "        for inputs, labels in test_set:\n",
    "            predictions = model(inputs)\n",
    "            _, predicted = torch.max(predictions.data, 1)\n",
    "            total += labels.size(0)\n",
    "            correct += (predicted == labels).sum().item()\n",
    "    \n",
    "    accuracy = (correct / total)*100\n",
    "    print(f'Accuracy on the given data set: {accuracy} percent')\n",
    "    return accuracy"
   ]
  },
  {
   "cell_type": "markdown",
   "id": "fdf6aa9d-8840-44c2-b5b5-950c6f736f15",
   "metadata": {},
   "source": [
    "## Task - 1"
   ]
  },
  {
   "cell_type": "code",
   "execution_count": 18,
   "id": "3b833c7f-aba6-4413-ae05-fecb1ffb19e5",
   "metadata": {
    "tags": []
   },
   "outputs": [
    {
     "name": "stdout",
     "output_type": "stream",
     "text": [
      "Epoch 0, Loss: 2.3023881912231445\n",
      "Epoch 50, Loss: 1.832445502281189\n",
      "Epoch 100, Loss: 1.7018424272537231\n",
      "Epoch 150, Loss: 1.67948317527771\n",
      "Epoch 200, Loss: 1.6152807474136353\n",
      "Epoch 250, Loss: 1.600347638130188\n",
      "Epoch 300, Loss: 1.5917302370071411\n",
      "Epoch 350, Loss: 1.586074709892273\n",
      "Epoch 400, Loss: 1.58290433883667\n",
      "Epoch 450, Loss: 1.5809872150421143\n",
      "Epoch 500, Loss: 1.579567313194275\n",
      "Final_Loss: 1.579567313194275\n"
     ]
    },
    {
     "data": {
      "image/png": "[encoded data removed]",
      "text/plain": [
       "<Figure size 640x480 with 1 Axes>"
      ]
     },
     "metadata": {},
     "output_type": "display_data"
    }
   ],
   "source": [
    " trained_model = Train_Network(500,0.001,train_dataloader,0)"
   ]
  },
  {
   "cell_type": "code",
   "execution_count": 22,
   "id": "32e7aa4f-46dd-4ebf-9e02-d0c833a075ca",
   "metadata": {
    "tags": []
   },
   "outputs": [
    {
     "name": "stdout",
     "output_type": "stream",
     "text": [
      "Accuracy on the given data set: 83.7 percent\n"
     ]
    },
    {
     "data": {
      "text/plain": [
       "83.7"
      ]
     },
     "execution_count": 22,
     "metadata": {},
     "output_type": "execute_result"
    }
   ],
   "source": [
    "Test_Network(test_dataloader, trained_model) # with the testing dataset"
   ]
  },
  {
   "cell_type": "code",
   "execution_count": 23,
   "id": "e9a16aaf-8d66-4b2e-a778-2ae34b33e8dc",
   "metadata": {},
   "outputs": [
    {
     "name": "stdout",
     "output_type": "stream",
     "text": [
      "Accuracy on the given data set: 83.6 percent\n"
     ]
    },
    {
     "data": {
      "text/plain": [
       "83.6"
      ]
     },
     "execution_count": 23,
     "metadata": {},
     "output_type": "execute_result"
    }
   ],
   "source": [
    "Test_Network(val_dataloader, trained_model) # with the validation dataset"
   ]
  },
  {
   "cell_type": "code",
   "execution_count": 24,
   "id": "404984a4-abd2-4c53-acf5-96f3f4c111a3",
   "metadata": {},
   "outputs": [
    {
     "name": "stdout",
     "output_type": "stream",
     "text": [
      "Accuracy on the given data set: 88.06 percent\n"
     ]
    },
    {
     "data": {
      "text/plain": [
       "88.06"
      ]
     },
     "execution_count": 24,
     "metadata": {},
     "output_type": "execute_result"
    }
   ],
   "source": [
    "Test_Network(train_dataloader, trained_model) # with the test dataset"
   ]
  },
  {
   "cell_type": "markdown",
   "id": "85f99497-021a-4818-be22-49f88c6100bf",
   "metadata": {},
   "source": [
    "## Task - 2"
   ]
  },
  {
   "cell_type": "code",
   "execution_count": 14,
   "id": "439f8830-d30d-4761-9d06-1b69a9de294f",
   "metadata": {
    "tags": []
   },
   "outputs": [
    {
     "name": "stdout",
     "output_type": "stream",
     "text": [
      "Epoch 0, Loss: 2.303021192550659\n",
      "Epoch 50, Loss: 1.7824804782867432\n",
      "Epoch 100, Loss: 1.5810401439666748\n",
      "Epoch 150, Loss: 1.5389140844345093\n",
      "Epoch 200, Loss: 1.5203545093536377\n",
      "Epoch 250, Loss: 1.5100009441375732\n",
      "Epoch 300, Loss: 1.5028778314590454\n",
      "Epoch 350, Loss: 1.4970283508300781\n",
      "Epoch 400, Loss: 1.4936473369598389\n",
      "Epoch 450, Loss: 1.491761565208435\n",
      "Epoch 500, Loss: 1.4892789125442505\n",
      "Final_Loss: 1.4892789125442505\n"
     ]
    },
    {
     "data": {
      "image/png": "[encoded data removed]",
      "text/plain": [
       "<Figure size 640x480 with 1 Axes>"
      ]
     },
     "metadata": {},
     "output_type": "display_data"
    }
   ],
   "source": [
    " model_2 = Train_Network(500,0.001,train_dataloader_normalized,0)"
   ]
  },
  {
   "cell_type": "code",
   "execution_count": 15,
   "id": "8b82855b-4b4c-4839-8164-8a8e32adfd3e",
   "metadata": {},
   "outputs": [
    {
     "name": "stdout",
     "output_type": "stream",
     "text": [
      "Accuracy on the given data set: 91.4 percent\n"
     ]
    },
    {
     "data": {
      "text/plain": [
       "91.4"
      ]
     },
     "execution_count": 15,
     "metadata": {},
     "output_type": "execute_result"
    }
   ],
   "source": [
    "Test_Network(test_dataloader, model_2)  # with testing dataset"
   ]
  },
  {
   "cell_type": "code",
   "execution_count": 16,
   "id": "7d2f01d9-d00c-4c56-ba47-1ebc5a0c54d4",
   "metadata": {
    "tags": []
   },
   "outputs": [
    {
     "name": "stdout",
     "output_type": "stream",
     "text": [
      "Accuracy on the given data set: 92.5 percent\n"
     ]
    },
    {
     "data": {
      "text/plain": [
       "92.5"
      ]
     },
     "execution_count": 16,
     "metadata": {},
     "output_type": "execute_result"
    }
   ],
   "source": [
    "Test_Network(val_dataloader, model_2)  # with validation dataset"
   ]
  },
  {
   "cell_type": "code",
   "execution_count": 17,
   "id": "7f74b276-f7af-4f01-aa02-fc6f706c12de",
   "metadata": {
    "tags": []
   },
   "outputs": [
    {
     "name": "stdout",
     "output_type": "stream",
     "text": [
      "Accuracy on the given data set: 97.38 percent\n"
     ]
    },
    {
     "data": {
      "text/plain": [
       "97.38"
      ]
     },
     "execution_count": 17,
     "metadata": {},
     "output_type": "execute_result"
    }
   ],
   "source": [
    "Test_Network(train_dataloader, model_2) # with the training dataset"
   ]
  },
  {
   "cell_type": "markdown",
   "id": "ec710271-fb8e-4ccf-93dd-8a061f84c57e",
   "metadata": {},
   "source": [
    "## Task - 3"
   ]
  },
  {
   "cell_type": "code",
   "execution_count": 25,
   "id": "4c9d9cb1-f459-4cd0-bc1f-03e7d94749c3",
   "metadata": {
    "tags": []
   },
   "outputs": [
    {
     "name": "stdout",
     "output_type": "stream",
     "text": [
      "Epoch 0, Loss: 2.302539348602295\n",
      "Epoch 50, Loss: 1.790793776512146\n",
      "Epoch 100, Loss: 1.611189842224121\n",
      "Epoch 150, Loss: 1.510959267616272\n",
      "Epoch 200, Loss: 1.483106255531311\n",
      "Epoch 250, Loss: 1.4737969636917114\n",
      "Epoch 300, Loss: 1.468858242034912\n",
      "Epoch 350, Loss: 1.46638822555542\n",
      "Epoch 400, Loss: 1.4651485681533813\n",
      "Epoch 450, Loss: 1.464156985282898\n",
      "Epoch 500, Loss: 1.4636321067810059\n",
      "Final_Loss: 1.4636321067810059\n"
     ]
    },
    {
     "data": {
      "image/png": "[encoded data removed]",
      "text/plain": [
       "<Figure size 640x480 with 1 Axes>"
      ]
     },
     "metadata": {},
     "output_type": "display_data"
    }
   ],
   "source": [
    " model_3 = Train_Network(500,0.001,train_dataloader_normalized,2)"
   ]
  },
  {
   "cell_type": "code",
   "execution_count": 29,
   "id": "e1222275-3d63-4fea-9bf9-80ef90966ae6",
   "metadata": {
    "tags": []
   },
   "outputs": [
    {
     "name": "stdout",
     "output_type": "stream",
     "text": [
      "Accuracy on the given data set: 92.05 percent\n"
     ]
    },
    {
     "data": {
      "text/plain": [
       "92.05"
      ]
     },
     "execution_count": 29,
     "metadata": {},
     "output_type": "execute_result"
    }
   ],
   "source": [
    "Test_Network(test_dataloader, model_3)   # testing accuracy"
   ]
  },
  {
   "cell_type": "code",
   "execution_count": 30,
   "id": "a531455c-744e-458a-9835-17d002b27f2e",
   "metadata": {
    "tags": []
   },
   "outputs": [
    {
     "name": "stdout",
     "output_type": "stream",
     "text": [
      "Accuracy on the given data set: 91.8 percent\n"
     ]
    },
    {
     "data": {
      "text/plain": [
       "91.8"
      ]
     },
     "execution_count": 30,
     "metadata": {},
     "output_type": "execute_result"
    }
   ],
   "source": [
    "Test_Network(val_dataloader, model_3)    # with validation set"
   ]
  },
  {
   "cell_type": "code",
   "execution_count": 31,
   "id": "58d41436-9e03-4cc7-9cee-65a8d7956b8f",
   "metadata": {
    "tags": []
   },
   "outputs": [
    {
     "name": "stdout",
     "output_type": "stream",
     "text": [
      "Accuracy on the given data set: 99.94 percent\n"
     ]
    },
    {
     "data": {
      "text/plain": [
       "99.94"
      ]
     },
     "execution_count": 31,
     "metadata": {},
     "output_type": "execute_result"
    }
   ],
   "source": [
    "Test_Network(train_dataloader, model_3)    # with the training dataset"
   ]
  },
  {
   "cell_type": "code",
   "execution_count": null,
   "id": "9015c30c-3747-49a8-9f8b-f4793c903b18",
   "metadata": {},
   "outputs": [],
   "source": []
  },
  {
   "cell_type": "markdown",
   "id": "53cb6ae3-5b45-4641-b56a-c59813f7a161",
   "metadata": {},
   "source": [
    "## Task -4"
   ]
  },
  {
   "cell_type": "code",
   "execution_count": 32,
   "id": "42708890-a6a5-4af7-ae11-c2525aa6de13",
   "metadata": {},
   "outputs": [
    {
     "name": "stdout",
     "output_type": "stream",
     "text": [
      "Epoch 0, Loss: 2.3023674488067627\n",
      "Epoch 50, Loss: 1.9213306903839111\n",
      "Epoch 100, Loss: 1.731366753578186\n",
      "Epoch 150, Loss: 1.6713441610336304\n",
      "Epoch 200, Loss: 1.6440236568450928\n",
      "Epoch 250, Loss: 1.6334506273269653\n",
      "Epoch 300, Loss: 1.6220754384994507\n",
      "Epoch 350, Loss: 1.6157269477844238\n",
      "Epoch 400, Loss: 1.611839771270752\n",
      "Epoch 450, Loss: 1.6060816049575806\n",
      "Epoch 500, Loss: 1.604688286781311\n",
      "Final_Loss: 1.604688286781311\n"
     ]
    },
    {
     "data": {
      "image/png": "[encoded data removed]",
      "text/plain": [
       "<Figure size 640x480 with 1 Axes>"
      ]
     },
     "metadata": {},
     "output_type": "display_data"
    }
   ],
   "source": [
    " model_4 = Train_Network(500,0.001,train_dataloader_normalized,3)"
   ]
  },
  {
   "cell_type": "code",
   "execution_count": 33,
   "id": "96c9404d-2bae-49b8-b6f8-ea7fd58ef37a",
   "metadata": {
    "tags": []
   },
   "outputs": [
    {
     "name": "stdout",
     "output_type": "stream",
     "text": [
      "Accuracy on the given data set: 82.1 percent\n"
     ]
    },
    {
     "data": {
      "text/plain": [
       "82.1"
      ]
     },
     "execution_count": 33,
     "metadata": {},
     "output_type": "execute_result"
    }
   ],
   "source": [
    "Test_Network(test_dataloader, model_4) # testing accuracy"
   ]
  },
  {
   "cell_type": "code",
   "execution_count": 34,
   "id": "50cd63f4-9a4e-40a1-abd6-5d7ba5c6778e",
   "metadata": {
    "tags": []
   },
   "outputs": [
    {
     "name": "stdout",
     "output_type": "stream",
     "text": [
      "Accuracy on the given data set: 82.1 percent\n"
     ]
    },
    {
     "data": {
      "text/plain": [
       "82.1"
      ]
     },
     "execution_count": 34,
     "metadata": {},
     "output_type": "execute_result"
    }
   ],
   "source": [
    "Test_Network(val_dataloader, model_4)    # with validation set"
   ]
  },
  {
   "cell_type": "code",
   "execution_count": 35,
   "id": "03bf9cfe-01fc-4deb-b5fd-d9a025a25fd5",
   "metadata": {
    "tags": []
   },
   "outputs": [
    {
     "name": "stdout",
     "output_type": "stream",
     "text": [
      "Accuracy on the given data set: 86.56 percent\n"
     ]
    },
    {
     "data": {
      "text/plain": [
       "86.56"
      ]
     },
     "execution_count": 35,
     "metadata": {},
     "output_type": "execute_result"
    }
   ],
   "source": [
    "Test_Network(train_dataloader, model_4)    # with the training dataset"
   ]
  },
  {
   "cell_type": "markdown",
   "id": "2b710b66-120b-4c2f-900f-46e9d2103dbf",
   "metadata": {},
   "source": [
    "## Task - 5"
   ]
  },
  {
   "cell_type": "code",
   "execution_count": 36,
   "id": "b3850840-f88a-47da-96d1-7acf47109bc7",
   "metadata": {},
   "outputs": [
    {
     "name": "stdout",
     "output_type": "stream",
     "text": [
      "Epoch 0, Loss: 2.302830219268799\n",
      "Epoch 50, Loss: 1.5811645984649658\n",
      "Epoch 100, Loss: 1.5706366300582886\n",
      "Epoch 150, Loss: 1.5683077573776245\n",
      "Epoch 200, Loss: 1.5676989555358887\n",
      "Epoch 250, Loss: 1.5663771629333496\n",
      "Epoch 300, Loss: 1.5652738809585571\n",
      "Epoch 350, Loss: 1.5647108554840088\n",
      "Epoch 400, Loss: 1.564011573791504\n",
      "Epoch 450, Loss: 1.5635387897491455\n",
      "Epoch 500, Loss: 1.5614540576934814\n",
      "Final_Loss: 1.5614540576934814\n"
     ]
    },
    {
     "data": {
      "image/png": "[encoded data removed]",
      "text/plain": [
       "<Figure size 640x480 with 1 Axes>"
      ]
     },
     "metadata": {},
     "output_type": "display_data"
    }
   ],
   "source": [
    " model_5 = Train_Network(500,0.01,train_dataloader,1)"
   ]
  },
  {
   "cell_type": "code",
   "execution_count": 37,
   "id": "975def32-511f-4bfb-8463-ba60c8286746",
   "metadata": {},
   "outputs": [
    {
     "name": "stdout",
     "output_type": "stream",
     "text": [
      "Accuracy on the given data set: 84.25 percent\n"
     ]
    },
    {
     "data": {
      "text/plain": [
       "84.25"
      ]
     },
     "execution_count": 37,
     "metadata": {},
     "output_type": "execute_result"
    }
   ],
   "source": [
    "Test_Network(test_dataloader, model_5)  # testing accuracy"
   ]
  },
  {
   "cell_type": "code",
   "execution_count": 38,
   "id": "055a125e-0e9b-4705-adb1-b2f7e60b091d",
   "metadata": {
    "tags": []
   },
   "outputs": [
    {
     "name": "stdout",
     "output_type": "stream",
     "text": [
      "Accuracy on the given data set: 86.6 percent\n"
     ]
    },
    {
     "data": {
      "text/plain": [
       "86.6"
      ]
     },
     "execution_count": 38,
     "metadata": {},
     "output_type": "execute_result"
    }
   ],
   "source": [
    "Test_Network(val_dataloader, model_5)   # with validation set"
   ]
  },
  {
   "cell_type": "code",
   "execution_count": 39,
   "id": "1768e9ea-e95e-447f-a1b6-fa541a48c12e",
   "metadata": {
    "tags": []
   },
   "outputs": [
    {
     "name": "stdout",
     "output_type": "stream",
     "text": [
      "Accuracy on the given data set: 89.58 percent\n"
     ]
    },
    {
     "data": {
      "text/plain": [
       "89.58"
      ]
     },
     "execution_count": 39,
     "metadata": {},
     "output_type": "execute_result"
    }
   ],
   "source": [
    "Test_Network(train_dataloader, model_5)    # with the training dataset"
   ]
  },
  {
   "cell_type": "markdown",
   "id": "8595f629-c779-421b-a9c1-86411d5f8a2c",
   "metadata": {},
   "source": [
    "## Task - 6"
   ]
  },
  {
   "cell_type": "code",
   "execution_count": 40,
   "id": "5d8bac6e-ee53-4e96-836b-76d7aaf55d9e",
   "metadata": {},
   "outputs": [
    {
     "name": "stdout",
     "output_type": "stream",
     "text": [
      "Epoch 0, Loss: 2.3028526306152344\n",
      "Epoch 50, Loss: 1.6590851545333862\n",
      "Epoch 100, Loss: 1.5361816883087158\n",
      "Epoch 150, Loss: 1.5140005350112915\n",
      "Epoch 200, Loss: 1.5044105052947998\n",
      "Epoch 250, Loss: 1.498940348625183\n",
      "Epoch 300, Loss: 1.4942748546600342\n",
      "Epoch 350, Loss: 1.4915721416473389\n",
      "Epoch 400, Loss: 1.489894986152649\n",
      "Epoch 450, Loss: 1.488431692123413\n",
      "Epoch 500, Loss: 1.4870641231536865\n",
      "Final_Loss: 1.4870641231536865\n"
     ]
    },
    {
     "data": {
      "image/png": "[encoded data removed]",
      "text/plain": [
       "<Figure size 640x480 with 1 Axes>"
      ]
     },
     "metadata": {},
     "output_type": "display_data"
    }
   ],
   "source": [
    " model_6 = Train_Network(500,0.001,train_dataloader,1)"
   ]
  },
  {
   "cell_type": "code",
   "execution_count": 41,
   "id": "d6dcef33-d502-4dad-91ec-cf45adbc35ad",
   "metadata": {
    "tags": []
   },
   "outputs": [
    {
     "name": "stdout",
     "output_type": "stream",
     "text": [
      "Accuracy on the given data set: 92.0 percent\n"
     ]
    },
    {
     "data": {
      "text/plain": [
       "92.0"
      ]
     },
     "execution_count": 41,
     "metadata": {},
     "output_type": "execute_result"
    }
   ],
   "source": [
    "Test_Network(test_dataloader, model_6)   # testing accuracy"
   ]
  },
  {
   "cell_type": "code",
   "execution_count": 42,
   "id": "653d8e2d-42ac-4200-8b98-15c268d7057e",
   "metadata": {
    "tags": []
   },
   "outputs": [
    {
     "name": "stdout",
     "output_type": "stream",
     "text": [
      "Accuracy on the given data set: 91.4 percent\n"
     ]
    },
    {
     "data": {
      "text/plain": [
       "91.4"
      ]
     },
     "execution_count": 42,
     "metadata": {},
     "output_type": "execute_result"
    }
   ],
   "source": [
    "Test_Network(val_dataloader, model_6)  # with validation set"
   ]
  },
  {
   "cell_type": "code",
   "execution_count": 43,
   "id": "3f99132b-b513-47bc-9460-04561df0d072",
   "metadata": {
    "tags": []
   },
   "outputs": [
    {
     "name": "stdout",
     "output_type": "stream",
     "text": [
      "Accuracy on the given data set: 97.46000000000001 percent\n"
     ]
    },
    {
     "data": {
      "text/plain": [
       "97.46000000000001"
      ]
     },
     "execution_count": 43,
     "metadata": {},
     "output_type": "execute_result"
    }
   ],
   "source": [
    "Test_Network(train_dataloader, model_6)    # with the training dataset"
   ]
  },
  {
   "cell_type": "code",
   "execution_count": null,
   "id": "ec78d045-ba01-49c8-9ca2-10fe038c8253",
   "metadata": {},
   "outputs": [],
   "source": []
  }
 ],
 "metadata": {
  "kernelspec": {
   "display_name": "Python 3 (ipykernel)",
   "language": "python",
   "name": "python3"
  },
  "language_info": {
   "codemirror_mode": {
    "name": "ipython",
    "version": 3
   },
   "file_extension": ".py",
   "mimetype": "text/x-python",
   "name": "python",
   "nbconvert_exporter": "python",
   "pygments_lexer": "ipython3",
   "version": "3.11.5"
  }
 },
 "nbformat": 4,
 "nbformat_minor": 5
}
